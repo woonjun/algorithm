{
 "cells": [
  {
   "cell_type": "code",
   "execution_count": 1,
   "metadata": {},
   "outputs": [],
   "source": [
    "\n",
    "def createProductSumSequence(sequence, maxIndex):\n",
    "    '''\n",
    "    Create a product-sum string given a sequence of numbers (e.g., createProductSumSequence([2,3], 1) --> '6=1*2*3=1+2+3')\n",
    "\n",
    "    Input:\n",
    "        sequence -- list of integers\n",
    "        maxIndex -- maximum index to use for sequence (i.e., sequence[0] ~ sequence[maxIndex] are used to create the string)\n",
    "    '''\n",
    "    result = []\n",
    "\n",
    "    product = 1\n",
    "    sum = 0\n",
    "    for i in range(maxIndex+1): \n",
    "        product *= sequence[i]\n",
    "        sum += sequence[i]\n",
    "\n",
    "    result.append(f\"{product}=\")\n",
    "    for i in range(product-sum): result.append(\"1*\")\n",
    "    for i in range(maxIndex+1):\n",
    "        result.append(str(sequence[i]))            \n",
    "        if i<maxIndex: result.append(\"*\")\n",
    "    result.append(\"=\")\n",
    "    for i in range(product-sum): result.append(\"1+\")\n",
    "    for i in range(maxIndex+1):\n",
    "        result.append(str(sequence[i]))            \n",
    "        if i<maxIndex: result.append(\"+\")\n",
    "\n",
    "    return ''.join(result)\n",
    "\n",
    "def findProductSum(n):\n",
    "    '''\n",
    "    Find all product-sum numbers within 2~n\n",
    "    '''    \n",
    "    return []\n",
    "    \n",
    "def findMinimalProductSum(n):\n",
    "    '''\n",
    "    Find all a minimal product number for each k in 2<=k<=n\n",
    "    '''\n",
    "    return []\n",
    "\n",
    "def findMinimalProductSumDivision(n):\n",
    "    '''\n",
    "    Find all product-sum numbers within 2~n, using a division tree\n",
    "    This function is used to evaluate the execution time of findProductSum()\n",
    "    '''\n",
    "    def recur(min, number, currentSum, depth):\n",
    "        for i in range(min, number+1):\n",
    "            if number % i == 0:\n",
    "                sequence[depth] = i\n",
    "                if depth>=1 and number == i:                    \n",
    "                    numFactors = depth + 1 + dividend - (currentSum+i)\n",
    "                    if numFactors not in dictionary: dictionary[numFactors] = dividend                    \n",
    "                recur(i, int(number/i), currentSum+i, depth+1)\n",
    "\n",
    "    assert type(n)==int and n > 0, f\"n={n} must be an integer greater than 0\"    \n",
    "    maxProduct = n**2\n",
    "    sequence = [0 for _ in range(maxProduct)]\n",
    "    dictionary = {}   # (key,value) = (# of factors (k), minimal product-sum number found so far)\n",
    "    for dividend in range(2, maxProduct+1):\n",
    "        recur(2, dividend, 0, 0)\n",
    "\n",
    "    result = []    \n",
    "    for i in range(2,n+1):\n",
    "        result.append(dictionary[i])\n",
    "    return result\n",
    "    '''\n",
    "    Find all product-sum numbers within 2~n\n",
    "    '''    \n",
    "    return []"
   ]
  },
  {
   "cell_type": "code",
   "execution_count": 10,
   "metadata": {},
   "outputs": [
    {
     "data": {
      "text/plain": [
       "'2=1*2=1+2'"
      ]
     },
     "execution_count": 10,
     "metadata": {},
     "output_type": "execute_result"
    }
   ],
   "source": []
  }
 ],
 "metadata": {
  "kernelspec": {
   "display_name": "Python 3",
   "language": "python",
   "name": "python3"
  },
  "language_info": {
   "codemirror_mode": {
    "name": "ipython",
    "version": 3
   },
   "file_extension": ".py",
   "mimetype": "text/x-python",
   "name": "python",
   "nbconvert_exporter": "python",
   "pygments_lexer": "ipython3",
   "version": "3.12.0"
  }
 },
 "nbformat": 4,
 "nbformat_minor": 2
}

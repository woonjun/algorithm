{
 "cells": [
  {
   "cell_type": "code",
   "execution_count": 1,
   "metadata": {},
   "outputs": [],
   "source": [
    "\n",
    "def createProductSumSequence(sequence, maxIndex):\n",
    "    '''\n",
    "    Create a product-sum string given a sequence of numbers (e.g., createProductSumSequence([2,3], 1) --> '6=1*2*3=1+2+3')\n",
    "\n",
    "    Input:\n",
    "        sequence -- list of integers\n",
    "        maxIndex -- maximum index to use for sequence (i.e., sequence[0] ~ sequence[maxIndex] are used to create the string)\n",
    "    '''\n",
    "    result = []\n",
    "\n",
    "    product = 1\n",
    "    sum = 0\n",
    "    for i in range(maxIndex+1): \n",
    "        product *= sequence[i]\n",
    "        sum += sequence[i]\n",
    "\n",
    "    result.append(f\"{product}=\")\n",
    "    for i in range(product-sum): result.append(\"1*\")\n",
    "    for i in range(maxIndex+1):\n",
    "        result.append(str(sequence[i]))            \n",
    "        if i<maxIndex: result.append(\"*\")\n",
    "    result.append(\"=\")\n",
    "    for i in range(product-sum): result.append(\"1+\")\n",
    "    for i in range(maxIndex+1):\n",
    "        result.append(str(sequence[i]))            \n",
    "        if i<maxIndex: result.append(\"+\")\n",
    "\n",
    "    return ''.join(result)\n",
    "\n",
    "def findProductSum(n):\n",
    "    '''\n",
    "    Find all product-sum numbers within 2~n\n",
    "    '''    \n",
    "    return []\n",
    "    \n",
    "def findMinimalProductSum(n):\n",
    "    '''\n",
    "    Find all a minimal product number for each k in 2<=k<=n\n",
    "    '''\n",
    "    return []\n",
    "\n",
    "def findMinimalProductSumDivision(n):\n",
    "    '''\n",
    "    Find all product-sum numbers within 2~n, using a division tree\n",
    "    This function is used to evaluate the execution time of findProductSum()\n",
    "    '''\n",
    "    def recur(min, number, currentSum, depth):\n",
    "        for i in range(min, number+1):\n",
    "            if number % i == 0:\n",
    "                sequence[depth] = i\n",
    "                if depth>=1 and number == i:                    \n",
    "                    numFactors = depth + 1 + dividend - (currentSum+i)\n",
    "                    if numFactors not in dictionary: dictionary[numFactors] = dividend                    \n",
    "                recur(i, int(number/i), currentSum+i, depth+1)\n",
    "\n",
    "    assert type(n)==int and n > 0, f\"n={n} must be an integer greater than 0\"    \n",
    "    maxProduct = n**2\n",
    "    sequence = [0 for _ in range(maxProduct)]\n",
    "    dictionary = {}   # (key,value) = (# of factors (k), minimal product-sum number found so far)\n",
    "    for dividend in range(2, maxProduct+1):\n",
    "        recur(2, dividend, 0, 0)\n",
    "\n",
    "    result = []    \n",
    "    for i in range(2,n+1):\n",
    "        result.append(dictionary[i])\n",
    "    return result\n",
    "    '''\n",
    "    Find all product-sum numbers within 2~n\n",
    "    '''    \n",
    "    return []"
   ]
  },
  {
   "cell_type": "code",
   "execution_count": 75,
   "metadata": {},
   "outputs": [
    {
     "data": {
      "text/plain": [
       "[[2, 2, 2], [2, 4]]"
      ]
     },
     "execution_count": 75,
     "metadata": {},
     "output_type": "execute_result"
    }
   ],
   "source": [
    "\n",
    "factorize(8)"
   ]
  },
  {
   "cell_type": "code",
   "execution_count": 106,
   "metadata": {},
   "outputs": [
    {
     "name": "stdout",
     "output_type": "stream",
     "text": [
      "['4=2*2=2+2', '6=1*2*3=1+2+3', '8=1*1*2*2*2=1+1+2+2+2', '8=1*1*2*4=1+1+2+4', '9=1*1*1*3*3=1+1+1+3+3', '10=1*1*1*2*5=1+1+1+2+5', '12=1*1*1*1*1*2*2*3=1+1+1+1+1+2+2+3', '12=1*1*1*1*2*6=1+1+1+1+2+6', '12=1*1*1*1*1*3*4=1+1+1+1+1+3+4']\n"
     ]
    }
   ],
   "source": [
    "def aa(n):\n",
    "    result=[]; result2=[]\n",
    "    for i in range(n+1):\n",
    "        a = factorize(i)\n",
    "        if len(a) >0:\n",
    "            for j in range(len(factorize(i))):\n",
    "                result.append(factorize(i)[j])\n",
    "    for i in range(len(result)):\n",
    "        a = createProductSumSequence(result[i],len(result[i])-1)  \n",
    "        result2.append(a)\n",
    "    return result2"
   ]
  },
  {
   "cell_type": "code",
   "execution_count": 102,
   "metadata": {},
   "outputs": [
    {
     "name": "stdout",
     "output_type": "stream",
     "text": [
      "[2, 2] 1 2\n",
      "[4, 4] 2 2\n",
      "[8, 6] 3 2\n",
      "[16, 8] 4 2\n",
      "[32, 10] 5 2\n",
      "[48, 11] 5 3\n",
      "[24, 9] 4 3\n",
      "[72, 12] 5 3\n",
      "[96, 13] 5 4\n",
      "[12, 7] 3 3\n",
      "[36, 10] 4 3\n",
      "[48, 11] 4 4\n",
      "[6, 5] 2 3\n",
      "[18, 8] 3 3\n",
      "[54, 11] 4 3\n",
      "[72, 12] 4 4\n",
      "[24, 9] 3 4\n",
      "[96, 13] 4 4\n"
     ]
    },
    {
     "data": {
      "text/plain": [
       "[[2, 2], [4, 4], [8, 6], [16, 8], [24, 9], [12, 7], [6, 5], [18, 8], [24, 9]]"
      ]
     },
     "execution_count": 102,
     "metadata": {},
     "output_type": "execute_result"
    }
   ],
   "source": [
    "def findMinimalProductSum(n):\n",
    "    result=[]; \n",
    "    def recur(temp, depth,min):\n",
    "        sequence = temp.copy()\n",
    "        for i in range(min,n):\n",
    "            sequence[0] = sequence[0]*min; sequence[1] = sequence[1]+min; depth+=1\n",
    "            print(sequence,depth,i)\n",
    "            if(sequence[0]<sequence[1]) or (sequence[0]>n**2): return\n",
    "            else: result.append(sequence[:])\n",
    "            recur(sequence,depth,min)\n",
    "            min+=1\n",
    "    recur([1,0],0,2)\n",
    "    return result\n",
    "findMinimalProductSum(5)"
   ]
  },
  {
   "cell_type": "code",
   "execution_count": 105,
   "metadata": {},
   "outputs": [
    {
     "name": "stdout",
     "output_type": "stream",
     "text": [
      "[4, 6, 8, 8, 12, 12, 12, 15, 16, 16] [4, 6, 8, 8, 12, 12, 12, 15, 16, 16]\n"
     ]
    }
   ],
   "source": [
    "def findMinimalProductSumImproved(n):\n",
    "    k_to_min_product_sum = {}\n",
    "    def findFactors(product, sum, start, depth, k_to_min_product_sum):\n",
    "        k = depth + product - sum \n",
    "        if k <= n:\n",
    "            if k not in k_to_min_product_sum or product < k_to_min_product_sum[k]:\n",
    "                k_to_min_product_sum[k] = product\n",
    "            for factor in range(start, n+1): \n",
    "                if product * factor < n**2:  \n",
    "                    findFactors(product * factor, sum + factor, factor, depth + 1, k_to_min_product_sum)\n",
    "    \n",
    "    for i in range(2, n+1): \n",
    "        findFactors(i, i, 2, 1, k_to_min_product_sum) \n",
    "    return [k_to_min_product_sum[k] for k in range(2, n+1)]\n",
    "\n",
    "print(findMinimalProductSumImproved(11),findMinimalProductSumDivision(11))"
   ]
  }
 ],
 "metadata": {
  "kernelspec": {
   "display_name": "Python 3",
   "language": "python",
   "name": "python3"
  },
  "language_info": {
   "codemirror_mode": {
    "name": "ipython",
    "version": 3
   },
   "file_extension": ".py",
   "mimetype": "text/x-python",
   "name": "python",
   "nbconvert_exporter": "python",
   "pygments_lexer": "ipython3",
   "version": "3.12.0"
  }
 },
 "nbformat": 4,
 "nbformat_minor": 2
}

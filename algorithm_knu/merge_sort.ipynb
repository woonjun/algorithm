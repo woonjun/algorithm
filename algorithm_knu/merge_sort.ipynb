{
 "cells": [
  {
   "cell_type": "code",
   "execution_count": 6,
   "metadata": {},
   "outputs": [],
   "source": [
    "def Merge_Sort(A):\n",
    "    sorted=[]\n",
    "    left = 0; right = len(A)\n",
    "    mid = (left+right)//2\n",
    "    if(right<=1):\n",
    "        return A\n",
    "    l = Merge_Sort(A[:mid])\n",
    "    h = Merge_Sort(A[mid:])\n",
    "    i = 0; j = 0\n",
    "    while(i<len(l) and j < len(h)):\n",
    "        if l[i] < h[j]:\n",
    "            sorted.append(l[i])\n",
    "            i += 1\n",
    "        else:\n",
    "            sorted.append(h[j])\n",
    "            j += 1\n",
    "        print(sorted)\n",
    "    while i < len(l):\n",
    "        sorted.append(l[i])\n",
    "        i+=1\n",
    "        print(sorted)\n",
    "    while j < len(h):\n",
    "        sorted.append(h[j])\n",
    "        j += 1\n",
    "        print(sorted)\n",
    "    return sorted"
   ]
  },
  {
   "cell_type": "code",
   "execution_count": 7,
   "metadata": {},
   "outputs": [
    {
     "name": "stdout",
     "output_type": "stream",
     "text": [
      "[42]\n",
      "[42, 124]\n",
      "[79]\n",
      "[79, 354]\n",
      "[42]\n",
      "[42, 79]\n",
      "[42, 79, 124]\n",
      "[42, 79, 124, 354]\n",
      "[6]\n",
      "[6, 240]\n",
      "[8]\n",
      "[8, 150]\n",
      "[6]\n",
      "[6, 8]\n",
      "[6, 8, 150]\n",
      "[6, 8, 150, 240]\n",
      "[6]\n",
      "[6, 8]\n",
      "[6, 8, 42]\n",
      "[6, 8, 42, 79]\n",
      "[6, 8, 42, 79, 124]\n",
      "[6, 8, 42, 79, 124, 150]\n",
      "[6, 8, 42, 79, 124, 150, 240]\n",
      "[6, 8, 42, 79, 124, 150, 240, 354]\n"
     ]
    },
    {
     "data": {
      "text/plain": [
       "[6, 8, 42, 79, 124, 150, 240, 354]"
      ]
     },
     "execution_count": 7,
     "metadata": {},
     "output_type": "execute_result"
    }
   ],
   "source": [
    "A = [124,42,354,79,6,240,150,8]\n",
    "B = Merge_Sort(A)\n",
    "B"
   ]
  },
  {
   "cell_type": "code",
   "execution_count": 7,
   "metadata": {},
   "outputs": [
    {
     "name": "stdout",
     "output_type": "stream",
     "text": [
      "[5, 12]\n",
      "[5, 12]\n",
      "[5, 5, 12]\n",
      "[5, 6, 12]\n",
      "[5, 6, 12]\n",
      "[1, 1]\n",
      "[1, 9]\n",
      "[1, 9, 1]\n",
      "[1, 9, 1]\n",
      "[1, 9, 10]\n",
      "[1, 5, 12, 10, 9, 1]\n",
      "[1, 5, 12, 10, 9, 1]\n",
      "[1, 5, 6, 10, 9, 1]\n",
      "[1, 5, 6, 9, 9, 1]\n",
      "[1, 5, 6, 9, 10, 1]\n",
      "[1, 5, 6, 9, 10, 12]\n",
      "Sorted array is: \n",
      "1 5 6 9 10 12 \n"
     ]
    }
   ],
   "source": [
    "def mergeSort(array):\n",
    "    if len(array) > 1:  \n",
    "\n",
    "        #  r is the point where the array is divided into two subarrays\n",
    "        r = len(array)//2\n",
    "        L = array[:r]\n",
    "        M = array[r:]\n",
    "\n",
    "        # Sort the two halves\n",
    "        mergeSort(L)\n",
    "        mergeSort(M)\n",
    "\n",
    "        i = j = k = 0\n",
    "\n",
    "        # Until we reach either end of either L or M, pick larger among\n",
    "        # elements L and M and place them in the correct position at A[p..r]\n",
    "        while i < len(L) and j < len(M):\n",
    "            if L[i] < M[j]:\n",
    "                array[k] = L[i]\n",
    "                i += 1\n",
    "            else:\n",
    "                array[k] = M[j]\n",
    "                j += 1\n",
    "            k += 1\n",
    "            print(array)\n",
    "        # When we run out of elements in either L or M,\n",
    "        # pick up the remaining elements and put in A[p..r]\n",
    "        while i < len(L):\n",
    "            array[k] = L[i]\n",
    "            i += 1\n",
    "            k += 1\n",
    "            print(array)\n",
    "\n",
    "        while j < len(M):\n",
    "            array[k] = M[j]\n",
    "            j += 1\n",
    "            k += 1\n",
    "            print(array)\n",
    "\n",
    "\n",
    "# Print the array\n",
    "def printList(array):\n",
    "    for i in range(len(array)):\n",
    "        print(array[i], end=\" \")\n",
    "    print()\n",
    "\n",
    "\n",
    "# Driver program\n",
    "if __name__ == '__main__':\n",
    "    array = [6, 5, 12, 10, 9, 1]\n",
    "\n",
    "    mergeSort(array)\n",
    "\n",
    "    print(\"Sorted array is: \")\n",
    "    printList(array)"
   ]
  }
 ],
 "metadata": {
  "kernelspec": {
   "display_name": "Python 3",
   "language": "python",
   "name": "python3"
  },
  "language_info": {
   "codemirror_mode": {
    "name": "ipython",
    "version": 3
   },
   "file_extension": ".py",
   "mimetype": "text/x-python",
   "name": "python",
   "nbconvert_exporter": "python",
   "pygments_lexer": "ipython3",
   "version": "3.12.0"
  }
 },
 "nbformat": 4,
 "nbformat_minor": 2
}

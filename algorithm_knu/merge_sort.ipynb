{
 "cells": [
  {
   "cell_type": "code",
   "execution_count": 41,
   "metadata": {},
   "outputs": [],
   "source": [
    "def Merge_Sort(A):\n",
    "    sorted=[]\n",
    "    left = 0; right = len(A)\n",
    "    mid = (left+right)//2\n",
    "    print(left,mid,right,A)\n",
    "    if(right<=1):\n",
    "        return A\n",
    "    l = Merge_Sort(A[:mid])\n",
    "    print('l종료',l)\n",
    "    h = Merge_Sort(A[mid:])\n",
    "    print('h종료',l,h,'ㅎㅇ',A)\n",
    "    i = 0; j = 0\n",
    "    while(i<len(l) and j < len(h)):\n",
    "        if l[i] < h[j]:\n",
    "            sorted.append(l[i])\n",
    "            i += 1\n",
    "        else:\n",
    "            sorted.append(h[j])\n",
    "            j += 1\n",
    "    while i < len(l):\n",
    "        sorted.append(l[i])\n",
    "        i+=1\n",
    "    while j < len(h):\n",
    "        sorted.append(h[j])\n",
    "        j += 1\n",
    "    return sorted"
   ]
  },
  {
   "cell_type": "code",
   "execution_count": 42,
   "metadata": {},
   "outputs": [
    {
     "name": "stdout",
     "output_type": "stream",
     "text": [
      "0 4 8 [1, 5, 3, 4, 8, 5, 5, 6]\n",
      "0 2 4 [1, 5, 3, 4]\n",
      "0 1 2 [1, 5]\n",
      "0 0 1 [1]\n",
      "l종료 [1]\n",
      "0 0 1 [5]\n",
      "h종료 [1] [5] ㅎㅇ [1, 5]\n",
      "l종료 [1, 5]\n",
      "0 1 2 [3, 4]\n",
      "0 0 1 [3]\n",
      "l종료 [3]\n",
      "0 0 1 [4]\n",
      "h종료 [3] [4] ㅎㅇ [3, 4]\n",
      "h종료 [1, 5] [3, 4] ㅎㅇ [1, 5, 3, 4]\n",
      "l종료 [1, 3, 4, 5]\n",
      "0 2 4 [8, 5, 5, 6]\n",
      "0 1 2 [8, 5]\n",
      "0 0 1 [8]\n",
      "l종료 [8]\n",
      "0 0 1 [5]\n",
      "h종료 [8] [5] ㅎㅇ [8, 5]\n",
      "l종료 [5, 8]\n",
      "0 1 2 [5, 6]\n",
      "0 0 1 [5]\n",
      "l종료 [5]\n",
      "0 0 1 [6]\n",
      "h종료 [5] [6] ㅎㅇ [5, 6]\n",
      "h종료 [5, 8] [5, 6] ㅎㅇ [8, 5, 5, 6]\n",
      "h종료 [1, 3, 4, 5] [5, 5, 6, 8] ㅎㅇ [1, 5, 3, 4, 8, 5, 5, 6]\n"
     ]
    },
    {
     "data": {
      "text/plain": [
       "[1, 3, 4, 5, 5, 5, 6, 8]"
      ]
     },
     "execution_count": 42,
     "metadata": {},
     "output_type": "execute_result"
    }
   ],
   "source": [
    "A = [1,5,3,4,8,5,5,6]\n",
    "B = Merge_Sort(A)\n",
    "B"
   ]
  }
 ],
 "metadata": {
  "kernelspec": {
   "display_name": "Python 3",
   "language": "python",
   "name": "python3"
  },
  "language_info": {
   "codemirror_mode": {
    "name": "ipython",
    "version": 3
   },
   "file_extension": ".py",
   "mimetype": "text/x-python",
   "name": "python",
   "nbconvert_exporter": "python",
   "pygments_lexer": "ipython3",
   "version": "3.12.0"
  }
 },
 "nbformat": 4,
 "nbformat_minor": 2
}

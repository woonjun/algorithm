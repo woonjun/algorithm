{
 "cells": [
  {
   "cell_type": "code",
   "execution_count": 5,
   "metadata": {},
   "outputs": [
    {
     "data": {
      "text/plain": [
       "55"
      ]
     },
     "execution_count": 5,
     "metadata": {},
     "output_type": "execute_result"
    }
   ],
   "source": [
    "def fibo(n):\n",
    "    if n<3:\n",
    "        return 1\n",
    "    return fibo(n-2) + fibo(n-1)\n",
    "\n",
    "fibo(10)"
   ]
  },
  {
   "cell_type": "code",
   "execution_count": 1,
   "metadata": {},
   "outputs": [
    {
     "data": {
      "text/plain": [
       "720"
      ]
     },
     "execution_count": 1,
     "metadata": {},
     "output_type": "execute_result"
    }
   ],
   "source": [
    "def factorial(n):\n",
    "    if n==1:\n",
    "        return 1\n",
    "    return n * factorial(n-1)\n",
    "factorial(6)"
   ]
  },
  {
   "cell_type": "code",
   "execution_count": 8,
   "metadata": {},
   "outputs": [
    {
     "data": {
      "text/plain": [
       "4"
      ]
     },
     "execution_count": 8,
     "metadata": {},
     "output_type": "execute_result"
    }
   ],
   "source": [
    "def mod(dividend, divisor,n):\n",
    "    if n==1:\n",
    "        return 1\n",
    "    return 3*mod(dividend,divisor,n-1)%7\n",
    "mod(3,7,5)"
   ]
  },
  {
   "cell_type": "code",
   "execution_count": 10,
   "metadata": {},
   "outputs": [
    {
     "data": {
      "text/plain": [
       "7"
      ]
     },
     "execution_count": 10,
     "metadata": {},
     "output_type": "execute_result"
    }
   ],
   "source": [
    "def hanoi(n):\n",
    "    if n==2:\n",
    "        return 3\n",
    "    return hanoi(n-1)*2+1\n",
    "\n",
    "hanoi(3)"
   ]
  },
  {
   "cell_type": "code",
   "execution_count": 28,
   "metadata": {},
   "outputs": [
    {
     "data": {
      "text/plain": [
       "10946.0"
      ]
     },
     "execution_count": 28,
     "metadata": {},
     "output_type": "execute_result"
    }
   ],
   "source": [
    "def rabbit(n):\n",
    "    if n==0 or n==1:\n",
    "        return 2\n",
    "    return (rabbit(n-1)+ rabbit(n-2))\n",
    "\n",
    "rabbit(20)/2"
   ]
  },
  {
   "cell_type": "code",
   "execution_count": 35,
   "metadata": {},
   "outputs": [
    {
     "data": {
      "text/plain": [
       "[5, 5, 3]"
      ]
     },
     "execution_count": 35,
     "metadata": {},
     "output_type": "execute_result"
    }
   ],
   "source": [
    "def to_35(n):\n",
    "    temp = n%5\n",
    "    quant = n//5\n",
    "\n",
    "    answer = [5 for i in range(quant)]\n",
    "    if(temp == 4):\n",
    "        answer.pop()\n",
    "        answer.append(3)\n",
    "        answer.append(3)\n",
    "        answer.append(3)\n",
    "    elif(temp==3):\n",
    "        answer.append(3)\n",
    "    elif(temp==2):\n",
    "        answer.pop()\n",
    "        answer.pop()\n",
    "        answer.append(3)\n",
    "        answer.append(3)\n",
    "        answer.append(3)\n",
    "        answer.append(3)\n",
    "    elif(temp==1):\n",
    "        answer.pop()\n",
    "        answer.append(3)\n",
    "        answer.append(3)\n",
    "\n",
    "    return answer\n",
    "\n",
    "to_35(13)"
   ]
  },
  {
   "cell_type": "code",
   "execution_count": 44,
   "metadata": {},
   "outputs": [
    {
     "data": {
      "text/plain": [
       "[3, 3, 3, 5, 5, 5, 5, 5, 5]"
      ]
     },
     "execution_count": 44,
     "metadata": {},
     "output_type": "execute_result"
    }
   ],
   "source": [
    "def to_35(n):\n",
    "    if(n==8):\n",
    "        return [3,5]\n",
    "    elif(n==9):\n",
    "        return [3,3,3]\n",
    "    elif(n==10):\n",
    "        return [5,5]\n",
    "    elif(n==11):\n",
    "        return [3,3,5]\n",
    "    elif(n==12):\n",
    "        return [3,3,3,3]\n",
    "    return to_35(n-5) + [5]\n",
    "\n",
    "to_35(39)"
   ]
  },
  {
   "cell_type": "code",
   "execution_count": null,
   "metadata": {},
   "outputs": [],
   "source": []
  }
 ],
 "metadata": {
  "kernelspec": {
   "display_name": "Python 3",
   "language": "python",
   "name": "python3"
  },
  "language_info": {
   "codemirror_mode": {
    "name": "ipython",
    "version": 3
   },
   "file_extension": ".py",
   "mimetype": "text/x-python",
   "name": "python",
   "nbconvert_exporter": "python",
   "pygments_lexer": "ipython3",
   "version": "3.12.0"
  }
 },
 "nbformat": 4,
 "nbformat_minor": 2
}

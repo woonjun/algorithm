{
 "cells": [
  {
   "cell_type": "code",
   "execution_count": 1,
   "metadata": {},
   "outputs": [
    {
     "name": "stdout",
     "output_type": "stream",
     "text": [
      "[2, 3, 5, 7, 11, 13, 17, 19, 23, 29, 31, 37, 41, 43, 47, 53, 59, 61, 67, 71, 73, 79, 83, 89, 97]\n",
      "findPrimes(10000000) took 2.5317938000080176 seconds on average\n",
      "\n",
      "Perform binary search to find 14 in list [0, 4, 5, 5, 9, 13, 13, 14, 15, 16, 16, 16, 20, 20, 22, 23, 24, 26, 29, 29]\n",
      "index of 14 is 7\n",
      "\n",
      "args: (1, 2, 3, 4, 5)\n",
      "each item: 1 2 3 4 5 \n",
      "max(args): 5\n",
      "\n",
      "args: (20, 30, 40)\n",
      "each item: 20 30 40 \n",
      "max(args): 40\n"
     ]
    }
   ],
   "source": [
    "import timeit\n",
    "import random\n",
    "\n",
    "\n",
    "def findPrimes(maxN):\n",
    "    '''\n",
    "    Find all primes <= maxN and return them in a list\n",
    "    '''\n",
    "    prime = [True for _ in range(maxN + 1)]\n",
    "    prime[0] = prime[1] = False\n",
    "    p = 2    \n",
    "    while p*p <= maxN:\n",
    "        if prime[p]:\n",
    "            prime[p*p::p] = [False] * ((maxN - p*p) // p + 1)            \n",
    "        p += 1\n",
    "\n",
    "    result = []\n",
    "    for i in range(len(prime)):\n",
    "        if prime[i]: result.append(i)\n",
    "\n",
    "    return result\n",
    "\n",
    "\n",
    "def binarySearchEQ(numbers, target):\n",
    "    '''\n",
    "    Find target in the list numbers\n",
    "    If the target exists in the list, return its index. Otherwise, return -1\n",
    "    '''\n",
    "    def recur(fromIndex, toIndex):\n",
    "        if fromIndex > toIndex: return -1\n",
    "\n",
    "        mid = int((fromIndex + toIndex) / 2)        \n",
    "        if numbers[mid] < target: return recur(mid+1, toIndex)\n",
    "        elif numbers[mid] > target: return recur(fromIndex, mid-1)\n",
    "        else: return mid\n",
    "\n",
    "    return recur(0, len(numbers)-1) \n",
    "\n",
    "\n",
    "def variableLengthArguments(*args):\n",
    "    print(f\"args: {args}\")    \n",
    "\n",
    "    print(f\"each item: \", end='')\n",
    "    for arg in args: print(arg, end=' ')\n",
    "    print()\n",
    "\n",
    "    print(f\"max(args): {max(args)}\")\n",
    "\n",
    "\n",
    "if __name__ == \"__main__\":\n",
    "    print(findPrimes(100))\n",
    "\n",
    "    n, repeat = 10000000, 1\n",
    "    tFindPrimes = timeit.timeit(lambda: findPrimes(n), number=repeat)/repeat\n",
    "    print(f\"findPrimes({n}) took {tFindPrimes} seconds on average\")\n",
    "\n",
    "    print()    \n",
    "    numbers = sorted([random.randint(0,30) for _ in range(20)])\n",
    "    target = random.randint(0,30)\n",
    "    print(f\"Perform binary search to find {target} in list {numbers}\")\n",
    "    print(f\"index of {target} is {binarySearchEQ(numbers, target)}\")\n",
    "\n",
    "    print()\n",
    "    variableLengthArguments(1, 2, 3, 4, 5)\n",
    "    print()\n",
    "    variableLengthArguments(20, 30, 40)    "
   ]
  },
  {
   "cell_type": "code",
   "execution_count": 2,
   "metadata": {},
   "outputs": [
    {
     "data": {
      "text/plain": [
       "[2, 3, 5, 7, 11, 13, 17, 19]"
      ]
     },
     "execution_count": 2,
     "metadata": {},
     "output_type": "execute_result"
    }
   ],
   "source": [
    "findPrimes(20)"
   ]
  },
  {
   "cell_type": "code",
   "execution_count": 3,
   "metadata": {},
   "outputs": [
    {
     "name": "stdout",
     "output_type": "stream",
     "text": [
      "args: (300, 100, 200, 500)\n",
      "each item: 300 100 200 500 \n",
      "max(args): 500\n"
     ]
    }
   ],
   "source": [
    "variableLengthArguments(300, 100, 200, 500)"
   ]
  }
 ],
 "metadata": {
  "kernelspec": {
   "display_name": "base",
   "language": "python",
   "name": "python3"
  },
  "language_info": {
   "codemirror_mode": {
    "name": "ipython",
    "version": 3
   },
   "file_extension": ".py",
   "mimetype": "text/x-python",
   "name": "python",
   "nbconvert_exporter": "python",
   "pygments_lexer": "ipython3",
   "version": "3.11.5"
  }
 },
 "nbformat": 4,
 "nbformat_minor": 2
}

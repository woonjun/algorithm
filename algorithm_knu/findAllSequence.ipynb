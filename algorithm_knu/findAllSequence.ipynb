{
 "cells": [
  {
   "cell_type": "code",
   "execution_count": 55,
   "metadata": {},
   "outputs": [
    {
     "data": {
      "text/plain": [
       "[[1],\n",
       " [1, 1],\n",
       " [1, 1, 1],\n",
       " [1, 1, 1, 1],\n",
       " [1, 1, 1, 1, 1],\n",
       " [1, 1, 1, 1, 1, 1],\n",
       " [1, 1, 1, 1, 2],\n",
       " [1, 1, 1, 2],\n",
       " [1, 1, 1, 3],\n",
       " [1, 1, 2],\n",
       " [1, 1, 2, 2],\n",
       " [1, 1, 3],\n",
       " [1, 1, 4],\n",
       " [1, 2],\n",
       " [1, 2, 2],\n",
       " [1, 2, 3],\n",
       " [1, 3],\n",
       " [1, 4],\n",
       " [1, 5],\n",
       " [2],\n",
       " [2, 2],\n",
       " [2, 2, 2],\n",
       " [2, 3],\n",
       " [2, 4],\n",
       " [3],\n",
       " [3, 3],\n",
       " [4],\n",
       " [5],\n",
       " [6]]"
      ]
     },
     "execution_count": 55,
     "metadata": {},
     "output_type": "execute_result"
    }
   ],
   "source": [
    "def findAllSequence(n):\n",
    "    def backtrack(start, path, sum_so_far):\n",
    "        if path:\n",
    "            answer.append(path.copy())\n",
    "        for i in range(start, n + 1):\n",
    "            if sum_so_far + i <= n:\n",
    "                path.append(i)\n",
    "                backtrack(i, path, sum_so_far + i)\n",
    "                path.pop()\n",
    "            else:\n",
    "                break\n",
    "\n",
    "    answer = []\n",
    "    backtrack(1, [], 0)\n",
    "    return answer\n",
    "findAllSequence(6)"
   ]
  }
 ],
 "metadata": {
  "kernelspec": {
   "display_name": "Python 3",
   "language": "python",
   "name": "python3"
  },
  "language_info": {
   "codemirror_mode": {
    "name": "ipython",
    "version": 3
   },
   "file_extension": ".py",
   "mimetype": "text/x-python",
   "name": "python",
   "nbconvert_exporter": "python",
   "pygments_lexer": "ipython3",
   "version": "3.12.0"
  }
 },
 "nbformat": 4,
 "nbformat_minor": 2
}

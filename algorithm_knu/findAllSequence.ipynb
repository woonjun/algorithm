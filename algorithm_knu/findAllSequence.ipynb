{
 "cells": [
  {
   "cell_type": "code",
   "execution_count": 1,
   "metadata": {},
   "outputs": [
    {
     "data": {
      "text/plain": [
       "[[1],\n",
       " [1, 1],\n",
       " [1, 1, 1],\n",
       " [1, 1, 1, 1],\n",
       " [1, 1, 1, 1, 1],\n",
       " [1, 1, 1, 1, 1, 1],\n",
       " [1, 1, 1, 1, 2],\n",
       " [1, 1, 1, 2],\n",
       " [1, 1, 1, 3],\n",
       " [1, 1, 2],\n",
       " [1, 1, 2, 2],\n",
       " [1, 1, 3],\n",
       " [1, 1, 4],\n",
       " [1, 2],\n",
       " [1, 2, 2],\n",
       " [1, 2, 3],\n",
       " [1, 3],\n",
       " [1, 4],\n",
       " [1, 5],\n",
       " [2],\n",
       " [2, 2],\n",
       " [2, 2, 2],\n",
       " [2, 3],\n",
       " [2, 4],\n",
       " [3],\n",
       " [3, 3],\n",
       " [4],\n",
       " [5],\n",
       " [6]]"
      ]
     },
     "execution_count": 1,
     "metadata": {},
     "output_type": "execute_result"
    }
   ],
   "source": [
    "def findAllSequence(n):\n",
    "    def backtrack(start, path, sum_so_far):\n",
    "        if path:\n",
    "            answer.append(path.copy())\n",
    "        for i in range(start, n + 1):\n",
    "            if sum_so_far + i <= n:\n",
    "                path.append(i)\n",
    "                backtrack(i, path, sum_so_far + i)\n",
    "                path.pop()\n",
    "            else:\n",
    "                break\n",
    "\n",
    "    answer = []\n",
    "    backtrack(1, [], 0)\n",
    "    return answer\n",
    "findAllSequence(6)"
   ]
  },
  {
   "cell_type": "code",
   "execution_count": 8,
   "metadata": {},
   "outputs": [
    {
     "name": "stdout",
     "output_type": "stream",
     "text": [
      "[2]\n",
      "[2, 2]\n",
      "[2, 2, 2]\n",
      "[2, 2, 3]\n",
      "[2, 3]\n",
      "[2, 4]\n",
      "[2, 5]\n",
      "[3]\n",
      "[3, 3]\n",
      "[3, 4]\n",
      "[4]\n",
      "[5]\n",
      "[6]\n",
      "[7]\n"
     ]
    }
   ],
   "source": [
    "def findAllSequence1(maxSum, min):\n",
    "\n",
    "    def recur(min, currentSum, depth):\n",
    "\n",
    "        while currentSum + min <= maxSum:\n",
    "\n",
    "            sequence[depth] = min\n",
    "\n",
    "            print(sequence[0:depth+1])\n",
    "\n",
    "            recur(min, currentSum+min, depth+1)\n",
    "\n",
    "            min += 1\n",
    "\n",
    " \n",
    "\n",
    "    assert maxSum > 0, f\"maxSum={maxSum} must be greater than 0\"\n",
    "\n",
    "    assert min > 0, f\"min={min} must be greater than 0\"\n",
    "\n",
    "    sequence = [0 for _ in range(maxSum)]\n",
    "\n",
    "    recur(min, 0, 0)\n",
    "\n",
    " \n",
    "\n",
    "if __name__ == \"__main__\":\n",
    "\n",
    "    findAllSequence1(7, 2)"
   ]
  },
  {
   "cell_type": "code",
   "execution_count": 7,
   "metadata": {},
   "outputs": [
    {
     "name": "stdout",
     "output_type": "stream",
     "text": [
      "[2]\n",
      "[2, 2]\n",
      "[2, 2, 2]\n",
      "[2, 2, 3]\n",
      "[2, 3]\n",
      "[2, 4]\n",
      "[2, 5]\n",
      "[3]\n",
      "[3, 3]\n",
      "[3, 4]\n",
      "[4]\n",
      "[5]\n",
      "[6]\n",
      "[7]\n"
     ]
    }
   ],
   "source": [
    "def findAllSequence2(maxSum, min):\n",
    "\n",
    "    assert maxSum > 0, f\"maxSum={maxSum} must be greater than 0\"\n",
    "\n",
    "    assert min > 0, f\"min={min} must be greater than 0\"\n",
    "\n",
    " \n",
    "\n",
    "    sequence = [0 for _ in range(maxSum)]\n",
    "\n",
    "    sumStack = [0 for _ in range(maxSum+1)] # currentSum in the stack\n",
    "\n",
    "    minStack = [0 for _ in range(maxSum+1)] # min in the stack\n",
    "\n",
    "    minStack[0] = min\n",
    "\n",
    "    depth = 0\n",
    "\n",
    " \n",
    "\n",
    "    while True:\n",
    "\n",
    "        while sumStack[depth] + minStack[depth] > maxSum:\n",
    "\n",
    "            depth -= 1\n",
    "\n",
    "            if depth < 0: return\n",
    "\n",
    "        sequence[depth] = minStack[depth]\n",
    "\n",
    "        print(sequence[0:depth+1])\n",
    "\n",
    "        sumStack[depth+1] = sumStack[depth] + minStack[depth]\n",
    "\n",
    "        minStack[depth+1] = minStack[depth]\n",
    "\n",
    "        minStack[depth] += 1\n",
    "\n",
    "        depth += 1\n",
    "\n",
    " \n",
    "\n",
    "if __name__ == \"__main__\":\n",
    "\n",
    "    findAllSequence2(7, 2)"
   ]
  },
  {
   "cell_type": "code",
   "execution_count": null,
   "metadata": {},
   "outputs": [],
   "source": []
  }
 ],
 "metadata": {
  "kernelspec": {
   "display_name": "Python 3",
   "language": "python",
   "name": "python3"
  },
  "language_info": {
   "codemirror_mode": {
    "name": "ipython",
    "version": 3
   },
   "file_extension": ".py",
   "mimetype": "text/x-python",
   "name": "python",
   "nbconvert_exporter": "python",
   "pygments_lexer": "ipython3",
   "version": "3.12.0"
  }
 },
 "nbformat": 4,
 "nbformat_minor": 2
}

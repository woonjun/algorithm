{
 "cells": [
  {
   "cell_type": "code",
   "execution_count": 7,
   "metadata": {},
   "outputs": [
    {
     "name": "stdout",
     "output_type": "stream",
     "text": [
      "[1, 2, 3, 4, 5, 6]\n"
     ]
    }
   ],
   "source": [
    "def Insert_sort(A):\n",
    "    for i in range(1,len(A)):\n",
    "        j = i-1\n",
    "        while(j>=0) and (A[j]>A[i]):\n",
    "            A[j],A[i] = A[i],A[j]\n",
    "            j -=1; i-=1\n",
    "    return A\n",
    "\n",
    "A = [5,2,4,6,1,3]\n",
    "A = Insert_sort(A)\n",
    "print(A)"
   ]
  }
 ],
 "metadata": {
  "kernelspec": {
   "display_name": "Python 3",
   "language": "python",
   "name": "python3"
  },
  "language_info": {
   "codemirror_mode": {
    "name": "ipython",
    "version": 3
   },
   "file_extension": ".py",
   "mimetype": "text/x-python",
   "name": "python",
   "nbconvert_exporter": "python",
   "pygments_lexer": "ipython3",
   "version": "3.12.0"
  }
 },
 "nbformat": 4,
 "nbformat_minor": 2
}

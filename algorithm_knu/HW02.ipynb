{
 "cells": [
  {
   "cell_type": "code",
   "execution_count": 12,
   "metadata": {},
   "outputs": [
    {
     "name": "stdout",
     "output_type": "stream",
     "text": [
      "11052\n",
      "time :  0.004052400588989258\n"
     ]
    }
   ],
   "source": [
    "import time\n",
    "\n",
    "start = time.time()\n",
    "def max_score(N, scores):\n",
    "    if N == 1:\n",
    "        return scores[0]\n",
    "    \n",
    "    dp = [[0] * 2 for _ in range(N)]\n",
    "    dp[0][0] = scores[0]  \n",
    "    dp[0][1] = scores[0] \n",
    "    \n",
    "    if N > 1:\n",
    "        dp[1][0] = scores[1] \n",
    "        dp[1][1] = scores[0] + scores[1] \n",
    "\n",
    "    for i in range(2, N):\n",
    "        dp[i][0] = max(dp[i-2][0], dp[i-2][1]) + scores[i]\n",
    "        dp[i][1] = dp[i-1][0] + scores[i]\n",
    "\n",
    "    return max(dp[N-1][0], dp[N-1][1])\n",
    "\n",
    "# 예제 입력\n",
    "import random\n",
    "N = 300\n",
    "scores = [random.randint(0,100) for _ in range(300)]\n",
    "print(max_score(N, scores))\n",
    "print(\"time : \", time.time()-start)"
   ]
  },
  {
   "cell_type": "code",
   "execution_count": 13,
   "metadata": {},
   "outputs": [
    {
     "data": {
      "text/plain": [
       "(array([[0.  , 0.  , 0.  , 0.  , 0.  , 0.  , 0.  ],\n",
       "        [0.  , 0.05, 0.25, 0.35, 0.95, 1.05, 1.8 ],\n",
       "        [0.  , 0.  , 0.15, 0.25, 0.8 , 0.9 , 1.65],\n",
       "        [0.  , 0.  , 0.  , 0.05, 0.45, 0.55, 1.3 ],\n",
       "        [0.  , 0.  , 0.  , 0.  , 0.35, 0.45, 1.2 ],\n",
       "        [0.  , 0.  , 0.  , 0.  , 0.  , 0.05, 0.45],\n",
       "        [0.  , 0.  , 0.  , 0.  , 0.  , 0.  , 0.35],\n",
       "        [0.  , 0.  , 0.  , 0.  , 0.  , 0.  , 0.  ]]),\n",
       " array([[0, 0, 0, 0, 0, 0, 0],\n",
       "        [0, 1, 2, 2, 4, 4, 4],\n",
       "        [0, 0, 2, 2, 4, 4, 4],\n",
       "        [0, 0, 0, 3, 4, 4, 4],\n",
       "        [0, 0, 0, 0, 4, 4, 4],\n",
       "        [0, 0, 0, 0, 0, 5, 6],\n",
       "        [0, 0, 0, 0, 0, 0, 6]]),\n",
       " array([[0.  , 0.  , 0.  , 0.  , 0.  , 0.  , 0.  ],\n",
       "        [0.  , 0.05, 0.2 , 0.25, 0.6 , 0.65, 1.  ],\n",
       "        [0.  , 0.  , 0.15, 0.2 , 0.55, 0.6 , 0.95],\n",
       "        [0.  , 0.  , 0.  , 0.05, 0.4 , 0.45, 0.8 ],\n",
       "        [0.  , 0.  , 0.  , 0.  , 0.35, 0.4 , 0.75],\n",
       "        [0.  , 0.  , 0.  , 0.  , 0.  , 0.05, 0.4 ],\n",
       "        [0.  , 0.  , 0.  , 0.  , 0.  , 0.  , 0.35],\n",
       "        [0.  , 0.  , 0.  , 0.  , 0.  , 0.  , 0.  ]]))"
      ]
     },
     "execution_count": 13,
     "metadata": {},
     "output_type": "execute_result"
    }
   ],
   "source": [
    "import numpy as np\n",
    "\n",
    "# 확률 데이터\n",
    "p = [0.05, 0.15, 0.05, 0.35, 0.05,0.35]\n",
    "q = [0, 0, 0, 0, 0, 0,0]\n",
    "n = len(p)\n",
    "\n",
    "# e와 w 배열 초기화\n",
    "e = np.zeros((n+2, n+1))\n",
    "w = np.zeros((n+2, n+1))\n",
    "\n",
    "# root 배열 초기화\n",
    "root = np.zeros((n+1, n+1), dtype=int)\n",
    "\n",
    "# 초기화 부분\n",
    "for i in range(1, n+2):\n",
    "    e[i, i-1] = q[i-1]\n",
    "    w[i, i-1] = q[i-1]\n",
    "\n",
    "# 메인 알고리즘\n",
    "for l in range(1, n+1):\n",
    "    for i in range(1, n-l+2):\n",
    "        j = i+l-1\n",
    "        e[i, j] = float('inf')\n",
    "        w[i, j] = w[i, j-1] + p[j-1] + q[j]\n",
    "        for r in range(i, j+1):\n",
    "            t = e[i, r-1] + e[r+1, j] + w[i, j]\n",
    "            if t < e[i, j]:\n",
    "                e[i, j] = t\n",
    "                root[i, j] = r\n",
    "\n",
    "# e와 root 테이블의 결과\n",
    "(e, root,w)\n"
   ]
  }
 ],
 "metadata": {
  "kernelspec": {
   "display_name": "base",
   "language": "python",
   "name": "python3"
  },
  "language_info": {
   "codemirror_mode": {
    "name": "ipython",
    "version": 3
   },
   "file_extension": ".py",
   "mimetype": "text/x-python",
   "name": "python",
   "nbconvert_exporter": "python",
   "pygments_lexer": "ipython3",
   "version": "3.11.5"
  }
 },
 "nbformat": 4,
 "nbformat_minor": 2
}

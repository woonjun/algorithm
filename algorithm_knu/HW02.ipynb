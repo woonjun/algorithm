{
 "cells": [
  {
   "cell_type": "code",
   "execution_count": 1,
   "metadata": {},
   "outputs": [
    {
     "name": "stdout",
     "output_type": "stream",
     "text": [
      "3\n"
     ]
    }
   ],
   "source": [
    "print(1+2)"
   ]
  },
  {
   "cell_type": "code",
   "execution_count": 2,
   "metadata": {},
   "outputs": [],
   "source": [
    "def max_score_optional_first_step(N, scores):\n",
    "    dp = [[0] * 2 for _ in range(N)]\n",
    "    dp[0][0] = 0  # 첫 번째 칸을 밟지 않는 경우\n",
    "    dp[0][1] = scores[0]  # 첫 번째 칸을 밟는 경우\n",
    "\n",
    "    if N > 1:\n",
    "        dp[1][0] = scores[1]  # 두 번째 칸을 밟고, 첫 번째 칸은 밟지 않음\n",
    "        dp[1][1] = max(scores[0] + scores[1], scores[1])  # 첫 번째 칸을 밟거나 밟지 않고 두 번째 칸을 밟음\n",
    "\n",
    "    for i in range(2, N):\n",
    "        dp[i][0] = max(dp[i-2][0], dp[i-2][1]) + scores[i]\n",
    "        dp[i][1] = dp[i-1][0] + scores[i]\n",
    "\n",
    "    return max(dp[N-1][0], dp[N-1][1])\n",
    "\n",
    "def main():\n",
    "    import sys\n",
    "    input = sys.stdin.read\n",
    "    data = input().split()\n",
    "    \n",
    "    N = int(data[0])\n",
    "    scores = list(map(int, data[1:N+1]))\n",
    "    \n",
    "    result = max_score_optional_first_step(N, scores)\n",
    "    print(result)\n",
    "\n",
    "if __name__ == \"__main__\":\n",
    "    main()"
   ]
  }
 ],
 "metadata": {
  "kernelspec": {
   "display_name": "base",
   "language": "python",
   "name": "python3"
  },
  "language_info": {
   "codemirror_mode": {
    "name": "ipython",
    "version": 3
   },
   "file_extension": ".py",
   "mimetype": "text/x-python",
   "name": "python",
   "nbconvert_exporter": "python",
   "pygments_lexer": "ipython3",
   "version": "3.11.5"
  }
 },
 "nbformat": 4,
 "nbformat_minor": 2
}

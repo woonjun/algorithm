{
 "cells": [
  {
   "cell_type": "code",
   "execution_count": 12,
   "metadata": {},
   "outputs": [
    {
     "name": "stdout",
     "output_type": "stream",
     "text": [
      "11052\n",
      "time :  0.004052400588989258\n"
     ]
    }
   ],
   "source": [
    "import time\n",
    "start = time.time()\n",
    "def max_score(N, scores):\n",
    "    if N == 1:\n",
    "        return scores[0]\n",
    "    dp = [[0] * 2 for _ in range(N)]\n",
    "    dp[0][0] = scores[0]  \n",
    "    dp[0][1] = scores[0]     \n",
    "    if N > 1:\n",
    "        dp[1][0] = scores[1] \n",
    "        dp[1][1] = scores[0] + scores[1] \n",
    "    for i in range(2, N):\n",
    "        dp[i][0] = max(dp[i-2][0], dp[i-2][1]) + scores[i]\n",
    "        dp[i][1] = dp[i-1][0] + scores[i]\n",
    "    return max(dp[N-1][0], dp[N-1][1])\n",
    "\n",
    "# 예제 입력\n",
    "import random\n",
    "N = 300\n",
    "scores = [random.randint(0,100) for _ in range(300)]\n",
    "print(max_score(N, scores))\n",
    "print(\"time : \", time.time()-start)"
   ]
  }
 ],
 "metadata": {
  "kernelspec": {
   "display_name": "base",
   "language": "python",
   "name": "python3"
  },
  "language_info": {
   "codemirror_mode": {
    "name": "ipython",
    "version": 3
   },
   "file_extension": ".py",
   "mimetype": "text/x-python",
   "name": "python",
   "nbconvert_exporter": "python",
   "pygments_lexer": "ipython3",
   "version": "3.11.5"
  }
 },
 "nbformat": 4,
 "nbformat_minor": 2
}

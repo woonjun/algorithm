{
 "cells": [
  {
   "cell_type": "code",
   "execution_count": 1,
   "metadata": {},
   "outputs": [],
   "source": [
    "import math\n",
    "import timeit\n",
    "from pathlib import Path\n",
    "\n",
    "def gcd3(a, b):\n",
    "    while b != 0:\n",
    "        if a > b: a, b = b, a % b\n",
    "        else: b = b % a\n",
    "    return a\n",
    "\n",
    "def phiUsingGCD(n):\n",
    "    phi = 0\n",
    "    for i in range(1, n):\n",
    "        if gcd3(i, n) == 1: phi += 1\n",
    "    return phi\n",
    "\n",
    "def totientMaximum1(N):\n",
    "    nOverPhiMax = 0\n",
    "    nMax = 0\n",
    "    for n in range(2, N+1):\n",
    "        phi = phiUsingGCD(n)\n",
    "        nOverPhi = n / phi\n",
    "        if nOverPhiMax < nOverPhi:\n",
    "            nOverPhiMax = nOverPhi\n",
    "            nMax = n\n",
    "    return nOverPhiMax, nMax\n",
    "\n",
    "def phiUsingPrimeFactorization(n):\n",
    "    phi = n\n",
    "    \n",
    "    if n % 2 == 0: # Check to see if 2 is a prime factor\n",
    "        phi = phi * (2 - 1) / 2        \n",
    "        while n % 2 == 0: n /= 2\n",
    "\n",
    "    p = 3 # Check to see if odd numbers in 3 ~ sqrt(n) are prime factors\n",
    "    while p*p <= n:\n",
    "        if n % p == 0:\n",
    "            phi = phi * (p - 1) / p\n",
    "            while n % p == 0: n /= p\n",
    "        p += 2\n",
    "    \n",
    "    if n > 2: phi = phi * (n - 1) / n # What is left in n must also be a prime factor if n > 2\n",
    "\n",
    "    return phi\n",
    "\n",
    "def totientMaximum2(N):\n",
    "    nOverPhiMax = 0\n",
    "    nMax = 0\n",
    "    for n in range(2, N+1):\n",
    "        phi = phiUsingPrimeFactorization(n)\n",
    "        nOverPhi = n / phi\n",
    "        if nOverPhiMax < nOverPhi:\n",
    "            nOverPhiMax = nOverPhi\n",
    "            nMax = n\n",
    "    return nOverPhiMax, nMax\n",
    "\n",
    "\n",
    "def totientMaximum3(*Ns):\n",
    "    return []    \n",
    "\n",
    "\n",
    "def totientMinimum(*Ns):    \n",
    "    return []\n",
    "\n",
    "\n",
    "def readFileIntoIntegerList(fileName):\n",
    "    '''\n",
    "    Read integers in filename into a list and return the list\n",
    "    This function is used for evaluation\n",
    "    '''\n",
    "    filePath = Path(__file__).with_name(fileName)   # Use the location of the current .py file\n",
    "    result = []\n",
    "    with filePath.open('r') as f:        \n",
    "        line = f.readline().strip() # Read a line, while removing preceding and trailing whitespaces\n",
    "        while line:                                \n",
    "            if len(line) > 0 and line.isnumeric(): result.append(int(line))\n",
    "            line = f.readline().strip()\n",
    "    return result\n"
   ]
  },
  {
   "cell_type": "code",
   "execution_count": 8,
   "metadata": {},
   "outputs": [],
   "source": [
    "is_prime = [True] * (5 + 1)"
   ]
  },
  {
   "cell_type": "code",
   "execution_count": 86,
   "metadata": {},
   "outputs": [],
   "source": [
    "def prime(n):\n",
    "    is_prime = [True] * (n + 1)\n",
    "    is_prime[0] = is_prime[1] = False  \n",
    "    p = 2\n",
    "    while p * p <= n:\n",
    "        if is_prime[p]:  \n",
    "            for i in range(p * p, n + 1, p):\n",
    "                is_prime[i] = False\n",
    "        p += 1  \n",
    "    primes = [x for x in range(n + 1) if is_prime[x]]\n",
    "    return primes\n",
    "\n"
   ]
  },
  {
   "cell_type": "code",
   "execution_count": 6,
   "metadata": {},
   "outputs": [
    {
     "name": "stdout",
     "output_type": "stream",
     "text": [
      "[30, 210, 210] [304250263527210, 304250263527210, 13082761331670030]\n"
     ]
    }
   ],
   "source": [
    "# 소수 리스트를 생성하기 위한 함수\n",
    "def sieve_of_eratosthenes(n):\n",
    "    is_prime = [True] * (n + 1)\n",
    "    is_prime[0] = is_prime[1] = False\n",
    "    p = 2\n",
    "    while p * p <= n:\n",
    "        if is_prime[p]:\n",
    "            for i in range(p * p, n + 1, p):\n",
    "                is_prime[i] = False\n",
    "        p += 1\n",
    "    primes = [x for x in range(n + 1) if is_prime[x]]\n",
    "    return primes\n",
    "\n",
    "# 가장 작은 n을 찾는 함수\n",
    "def totientMaximum3(*Ns):\n",
    "    primes = sieve_of_eratosthenes(100)\n",
    "    \n",
    "    results = []\n",
    "    for limit in Ns:\n",
    "        product = 1\n",
    "        for prime in primes:\n",
    "            if product * prime > limit:\n",
    "                break\n",
    "            product *= prime\n",
    "        results.append(product)\n",
    "    \n",
    "    return results\n",
    "\n",
    "def totientMinimum(*Ns):\n",
    "    primes = sieve_of_eratosthenes(100)\n",
    "    results = []\n",
    "    for limit in Ns:\n",
    "        n = 1\n",
    "        for prime in primes:\n",
    "            if n * prime > limit:\n",
    "                break\n",
    "            n *= prime\n",
    "        results.append(n)\n",
    "\n",
    "    return results\n",
    "print(totientMinimum(50, 500, 1000),\n",
    "totientMaximum3(1000000000000000, 10000000000000000, 100000000000000000))\n"
   ]
  },
  {
   "cell_type": "code",
   "execution_count": 7,
   "metadata": {},
   "outputs": [
    {
     "data": {
      "text/plain": [
       "[47, 499, 997]"
      ]
     },
     "execution_count": 7,
     "metadata": {},
     "output_type": "execute_result"
    }
   ],
   "source": [
    "def totientMinimum(*Ns):\n",
    "    primes = sieve_of_eratosthenes(max(Ns))\n",
    "    results = []\n",
    "    for limit in Ns:\n",
    "        largest_prime = max([p for p in primes if p <= limit])\n",
    "        results.append(largest_prime)\n",
    "    \n",
    "    return results\n",
    "\n",
    "totientMinimum(50, 500, 1000)"
   ]
  },
  {
   "cell_type": "code",
   "execution_count": 91,
   "metadata": {},
   "outputs": [
    {
     "data": {
      "text/plain": [
       "[30, 210, 9699690]"
      ]
     },
     "execution_count": 91,
     "metadata": {},
     "output_type": "execute_result"
    }
   ],
   "source": [
    "def totientMaximum3(*Ns):\n",
    "    maxnumber = max(Ns); su = 1; i = 0; answer=[]\n",
    "    is_prime = prime(100)\n",
    "    while(su<maxnumber):\n",
    "        su*=is_prime[i]; i+=1\n",
    "        answer.append(su)\n",
    "    answer2=[]; j=0\n",
    "    for i in range(len(Ns)):\n",
    "        while True:\n",
    "            if Ns[i]>answer[j]:\n",
    "                j+=1\n",
    "            else:\n",
    "                j-=1; answer2.append(answer[j])\n",
    "                break\n",
    "    return answer2\n",
    "\n",
    "totientMaximum3(50, 500, 10000000) "
   ]
  },
  {
   "cell_type": "code",
   "execution_count": 74,
   "metadata": {},
   "outputs": [
    {
     "data": {
      "text/plain": [
       "[47, 499, 997]"
      ]
     },
     "execution_count": 74,
     "metadata": {},
     "output_type": "execute_result"
    }
   ],
   "source": [
    "def totientMinimum(*Ns):    \n",
    "    maxnumber = max(Ns); answer=[]\n",
    "    is_prime = prime(maxnumber); j=0\n",
    "    for i in range(len(Ns)):\n",
    "        while True:\n",
    "            try:\n",
    "                if Ns[i]> is_prime[j]:\n",
    "                    j+=1\n",
    "                else:\n",
    "                    j-=1; answer.append(is_prime[j])\n",
    "                    break\n",
    "            except:\n",
    "                j-=1; answer.append(is_prime[j])\n",
    "                break\n",
    "    return answer\n",
    "totientMinimum(50, 500, 1000)"
   ]
  },
  {
   "cell_type": "code",
   "execution_count": 96,
   "metadata": {},
   "outputs": [
    {
     "name": "stdout",
     "output_type": "stream",
     "text": [
      "\n",
      "Correctness test for totientMaximum3()\n",
      "For each test case, if your answer does not appear within 5 seconds, then consider that you failed the case\n",
      "P P P P P "
     ]
    },
    {
     "ename": "NameError",
     "evalue": "name '__file__' is not defined",
     "output_type": "error",
     "traceback": [
      "\u001b[1;31m---------------------------------------------------------------------------\u001b[0m",
      "\u001b[1;31mNameError\u001b[0m                                 Traceback (most recent call last)",
      "Cell \u001b[1;32mIn[96], line 31\u001b[0m\n\u001b[0;32m     28\u001b[0m     \u001b[38;5;28mprint\u001b[39m(\u001b[38;5;124m\"\u001b[39m\u001b[38;5;124mF \u001b[39m\u001b[38;5;124m\"\u001b[39m, end\u001b[38;5;241m=\u001b[39m\u001b[38;5;124m'\u001b[39m\u001b[38;5;124m'\u001b[39m)\n\u001b[0;32m     29\u001b[0m     correct \u001b[38;5;241m=\u001b[39m \u001b[38;5;28;01mFalse\u001b[39;00m\n\u001b[1;32m---> 31\u001b[0m inputLines \u001b[38;5;241m=\u001b[39m readFileIntoIntegerList(\u001b[38;5;124m\"\u001b[39m\u001b[38;5;124mtestInput1.txt\u001b[39m\u001b[38;5;124m\"\u001b[39m)\n\u001b[0;32m     32\u001b[0m outputLines \u001b[38;5;241m=\u001b[39m readFileIntoIntegerList(\u001b[38;5;124m\"\u001b[39m\u001b[38;5;124mtestOutput1.txt\u001b[39m\u001b[38;5;124m\"\u001b[39m)\n\u001b[0;32m     33\u001b[0m \u001b[38;5;28;01mif\u001b[39;00m totientMaximum3(\u001b[38;5;241m*\u001b[39minputLines) \u001b[38;5;241m==\u001b[39m outputLines: \u001b[38;5;28mprint\u001b[39m(\u001b[38;5;124m\"\u001b[39m\u001b[38;5;124mP \u001b[39m\u001b[38;5;124m\"\u001b[39m, end\u001b[38;5;241m=\u001b[39m\u001b[38;5;124m'\u001b[39m\u001b[38;5;124m'\u001b[39m)\n",
      "Cell \u001b[1;32mIn[76], line 108\u001b[0m, in \u001b[0;36mreadFileIntoIntegerList\u001b[1;34m(fileName)\u001b[0m\n\u001b[0;32m    103\u001b[0m \u001b[38;5;28;01mdef\u001b[39;00m \u001b[38;5;21mreadFileIntoIntegerList\u001b[39m(fileName):\n\u001b[0;32m    104\u001b[0m \u001b[38;5;250m    \u001b[39m\u001b[38;5;124;03m'''\u001b[39;00m\n\u001b[0;32m    105\u001b[0m \u001b[38;5;124;03m    Read integers in filename into a list and return the list\u001b[39;00m\n\u001b[0;32m    106\u001b[0m \u001b[38;5;124;03m    This function is used for evaluation\u001b[39;00m\n\u001b[0;32m    107\u001b[0m \u001b[38;5;124;03m    '''\u001b[39;00m\n\u001b[1;32m--> 108\u001b[0m     filePath \u001b[38;5;241m=\u001b[39m Path(\u001b[38;5;18m__file__\u001b[39m)\u001b[38;5;241m.\u001b[39mwith_name(fileName)   \u001b[38;5;66;03m# Use the location of the current .py file\u001b[39;00m\n\u001b[0;32m    109\u001b[0m     result \u001b[38;5;241m=\u001b[39m []\n\u001b[0;32m    110\u001b[0m     \u001b[38;5;28;01mwith\u001b[39;00m filePath\u001b[38;5;241m.\u001b[39mopen(\u001b[38;5;124m'\u001b[39m\u001b[38;5;124mr\u001b[39m\u001b[38;5;124m'\u001b[39m) \u001b[38;5;28;01mas\u001b[39;00m f:        \n",
      "\u001b[1;31mNameError\u001b[0m: name '__file__' is not defined"
     ]
    }
   ],
   "source": [
    "if __name__ == \"__main__\":\n",
    "\n",
    "    print()\n",
    "    print(\"Correctness test for totientMaximum3()\")\n",
    "    print(\"For each test case, if your answer does not appear within 5 seconds, then consider that you failed the case\")\n",
    "    if totientMaximum3(2, 3, 4, 5, 6, 7, 8, 9, 10, 11) == [2, 2, 2, 2, 6, 6, 6, 6, 6, 6]: print(\"P \", end='')\n",
    "    else:\n",
    "        print(\"F \", end='')\n",
    "        correct = False\n",
    "\n",
    "    if totientMaximum3(50, 500, 1000000) == [30, 210, 510510]: print(\"P \", end='')\n",
    "    else:\n",
    "        print(\"F \", end='')\n",
    "        correct = False\n",
    "\n",
    "    if totientMaximum3(10000000, 1000000000) == [9699690, 223092870]: print(\"P \", end='')\n",
    "    else:\n",
    "        print(\"F \", end='')\n",
    "        correct = False\n",
    "\n",
    "    if totientMaximum3(10000000000, 1000000000000, 10000000000000) == [6469693230, 200560490130, 7420738134810]: print(\"P \", end='')\n",
    "    else:\n",
    "        print(\"F \", end='')\n",
    "        correct = False\n",
    "\n",
    "    if totientMaximum3(1000000000000000, 10000000000000000, 100000000000000000) == [304250263527210, 304250263527210, 13082761331670030]: print(\"P \", end='')\n",
    "    else:\n",
    "        print(\"F \", end='')\n",
    "        correct = False\n",
    "\n",
    "    inputLines = readFileIntoIntegerList(\"testInput1.txt\")\n",
    "    outputLines = readFileIntoIntegerList(\"testOutput1.txt\")\n",
    "    if totientMaximum3(*inputLines) == outputLines: print(\"P \", end='')\n",
    "    else:\n",
    "        print(\"F \", end='')\n",
    "        correct = False\n",
    "    print(timeit.timeit(lambda: totientMaximum3(*inputLines), number=1))\n",
    "    \n",
    "    \n",
    "    print()\n",
    "    print(\"Correctness test for totientMinimum()\")\n",
    "    print(\"For each test case, if your answer does not appear within 5 seconds, then consider that you failed the case\")\n",
    "    if totientMinimum(2, 3, 4, 5, 6, 7, 8, 9, 10, 11) == [2, 3, 3, 5, 5, 7, 7, 7, 7, 11]: print(\"P \", end='')\n",
    "    else:\n",
    "        print(\"F \", end='')\n",
    "        correct = False\n",
    "\n",
    "    if totientMinimum(50, 500, 1000) == [47, 499, 997]: print(\"P \", end='')\n",
    "    else:\n",
    "        print(\"F \", end='')\n",
    "        correct = False\n",
    "\n",
    "    if totientMinimum(5000, 10000, 50000) == [4999, 9973, 49999]: print(\"P \", end='')\n",
    "    else:\n",
    "        print(\"F \", end='')\n",
    "        correct = False\n",
    "\n",
    "    if totientMinimum(100000, 500000, 1000000) == [99991, 499979, 999983]: print(\"P \", end='')\n",
    "    else:\n",
    "        print(\"F \", end='')\n",
    "        correct = False\n",
    "\n",
    "    inputLines = readFileIntoIntegerList(\"testInput2.txt\")\n",
    "    outputLines = readFileIntoIntegerList(\"testOutput2.txt\")\n",
    "    if totientMinimum(*inputLines) == outputLines: print(\"P \", end='')\n",
    "    else:\n",
    "        print(\"F \", end='')\n",
    "        correct = False\n",
    "\n",
    "    print(timeit.timeit(lambda: totientMinimum(*inputLines), number=1))"
   ]
  }
 ],
 "metadata": {
  "kernelspec": {
   "display_name": "base",
   "language": "python",
   "name": "python3"
  },
  "language_info": {
   "codemirror_mode": {
    "name": "ipython",
    "version": 3
   },
   "file_extension": ".py",
   "mimetype": "text/x-python",
   "name": "python",
   "nbconvert_exporter": "python",
   "pygments_lexer": "ipython3",
   "version": "3.11.5"
  }
 },
 "nbformat": 4,
 "nbformat_minor": 2
}

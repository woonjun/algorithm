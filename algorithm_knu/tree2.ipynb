{
 "cells": [
  {
   "cell_type": "code",
   "execution_count": 3,
   "metadata": {},
   "outputs": [],
   "source": [
    "import timeit\n",
    "import math\n",
    "\n",
    "def printSequence(product, depth, sequence):\n",
    "        print(f\"{product} = \", end='')\n",
    "        for i in range(depth+1):\n",
    "            print(sequence[i],end='')\n",
    "            if i<depth: print(\"*\",end='')\n",
    "        print()\n",
    "\n",
    "def findAllSequenceDiv(N, smallestFactor, print2stdout):\n",
    "    def recur(n, initial_i, depth):\n",
    "        for i in range(initial_i, n+1):\n",
    "            if n % i == 0:\n",
    "                sequence[depth] = i\n",
    "                if n == i:\n",
    "                    if print2stdout: printSequence(dividend, depth, sequence)\n",
    "                else: recur(int(n/i), i, depth+1)\n",
    "                \n",
    "    sequence = [0 for i in range(N)]\n",
    "    for dividend in range(smallestFactor, N+1):        \n",
    "        recur(dividend, smallestFactor, 0)\n",
    "\n",
    "def findAllSequenceDivSqrt(N, smallestFactor, print2stdout):\n",
    "    def recur(n, initial_i, depth):\n",
    "        #\n",
    "        # if n % i == 0 (i.e., n = i * j), then i <= j, since i <= sqrt(n)\n",
    "        #\n",
    "        for i in range(initial_i, int(math.sqrt(n))+1):\n",
    "            if n % i == 0:\n",
    "                sequence[depth] = i\n",
    "                recur(int(n/i), i, depth+1)\n",
    "        sequence[depth] = n\n",
    "        if print2stdout: printSequence(dividend, depth, sequence)\n",
    "                \n",
    "    sequence = [0 for i in range(N)]\n",
    "    for dividend in range(smallestFactor, N+1):        \n",
    "        recur(dividend, smallestFactor, 0)\n",
    "\n",
    "def findAllSequenceMult(N, smallestFactor, print2stdout):\n",
    "    def recur(initial_i, product, depth):\n",
    "        i = initial_i\n",
    "        while product*i <= N:\n",
    "            sequence[depth] = i\n",
    "            if print2stdout: printSequence(product*i, depth, sequence)\n",
    "            recur(i, product*i, depth+1)\n",
    "            i += 1\n",
    "\n",
    "    sequence = [0 for i in range(N)]\n",
    "    recur(smallestFactor, 1, 0)    \n",
    "\n",
    "\n",
    "def findDivisors(n):\n",
    "    result = []\n",
    "    for i in range(1, n+1):\n",
    "        if n % i == 0:\n",
    "            result.append(i)\n",
    "\n",
    "    return result\n",
    "\n",
    "\n",
    "def findNstoreCycle(elements, f):\n",
    "    def recur(a):\n",
    "        if result[a] != None: return -1\n",
    "\n",
    "        if a in dictionary: return a\n",
    "        else:\n",
    "            dictionary[a] = len(dictionary)\n",
    "            firstElementInCycle = recur(f[a])\n",
    "            if firstElementInCycle == -1: # no cycle found that includes a\n",
    "                result[a] = -1\n",
    "                return -1\n",
    "            else:\n",
    "                result[a] = f[a]\n",
    "                if a == firstElementInCycle:\n",
    "                    cycleElements.append(a)\n",
    "                    return -1\n",
    "                else: return firstElementInCycle\n",
    "\n",
    "    result = [None for _ in range(len(elements))]    \n",
    "    dictionary = {}\n",
    "    cycleElements = []\n",
    "    for e in elements:\n",
    "        dictionary.clear()\n",
    "        recur(e)\n",
    "\n",
    "    return cycleElements"
   ]
  },
  {
   "cell_type": "code",
   "execution_count": 10,
   "metadata": {},
   "outputs": [
    {
     "name": "stdout",
     "output_type": "stream",
     "text": [
      "0.03789503999869339 0.004956760001368821 0.0011138100002426655\n"
     ]
    }
   ],
   "source": [
    "repeat = 10\n",
    "a = timeit.timeit(lambda: findAllSequenceDiv(1000, 2, False), number=repeat) / repeat\n",
    "b = timeit.timeit(lambda: findAllSequenceDivSqrt(1000, 2, False), number=repeat) / repeat\n",
    "c = timeit.timeit(lambda: findAllSequenceMult(1000, 2, False), number=repeat) / repeat\n",
    "print(a,b,c)"
   ]
  },
  {
   "cell_type": "code",
   "execution_count": 11,
   "metadata": {},
   "outputs": [
    {
     "name": "stdout",
     "output_type": "stream",
     "text": [
      "3.0 3\n"
     ]
    }
   ],
   "source": [
    "import math\n",
    "f1 = math.sqrt\n",
    "f2 = math.ceil\n",
    "print(f1(9), f2(2.5))"
   ]
  },
  {
   "cell_type": "code",
   "execution_count": 13,
   "metadata": {},
   "outputs": [
    {
     "data": {
      "text/plain": [
       "[1, 2, 4, 8, 16]"
      ]
     },
     "execution_count": 13,
     "metadata": {},
     "output_type": "execute_result"
    }
   ],
   "source": [
    "findDivisors(16)"
   ]
  },
  {
   "cell_type": "code",
   "execution_count": 14,
   "metadata": {},
   "outputs": [
    {
     "data": {
      "text/plain": [
       "[0]"
      ]
     },
     "execution_count": 14,
     "metadata": {},
     "output_type": "execute_result"
    }
   ],
   "source": [
    "findNstoreCycle([0,1,2,3,4,5],[5,0,1,2,3,1])"
   ]
  }
 ],
 "metadata": {
  "kernelspec": {
   "display_name": "base",
   "language": "python",
   "name": "python3"
  },
  "language_info": {
   "codemirror_mode": {
    "name": "ipython",
    "version": 3
   },
   "file_extension": ".py",
   "mimetype": "text/x-python",
   "name": "python",
   "nbconvert_exporter": "python",
   "pygments_lexer": "ipython3",
   "version": "3.11.5"
  }
 },
 "nbformat": 4,
 "nbformat_minor": 2
}

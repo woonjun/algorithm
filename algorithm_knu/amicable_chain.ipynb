{
 "cells": [
  {
   "cell_type": "code",
   "execution_count": 11,
   "metadata": {},
   "outputs": [
    {
     "data": {
      "text/plain": [
       "[220, 284]"
      ]
     },
     "execution_count": 11,
     "metadata": {},
     "output_type": "execute_result"
    }
   ],
   "source": [
    "import math\n",
    "def findSarrayMultSqrt(n):\n",
    "    s = [0 for _ in range(n+1)]\n",
    "    for a in range(2, n+1): s[a] = 1\n",
    "    for n1 in range(2, int(math.sqrt(n))+1):\n",
    "        for n2 in range(n1, int(n/n1)+1):\n",
    "            s[n1*n2] += n1\n",
    "            if n2 != n1: s[n1*n2] += n2\n",
    "    return s\n",
    "\n",
    "def findLongestAmicableChainCorrected(n):\n",
    "    s = findSarrayMultSqrt(n)  \n",
    "    max_length = 0\n",
    "    best_chain = []\n",
    "\n",
    "    for start in range(2, n + 1):\n",
    "        current = start\n",
    "        chain = []\n",
    "        seen = set()\n",
    "\n",
    "        while current <= n and current not in seen:\n",
    "            seen.add(current)\n",
    "            chain.append(current)\n",
    "            current = s[current]\n",
    "            if current in chain:\n",
    "                if current == start:  \n",
    "                    if len(chain) > max_length or (len(chain) == max_length and min(chain) < min(best_chain)):\n",
    "                        max_length = len(chain)\n",
    "                        best_chain = chain\n",
    "                break\n",
    "\n",
    "    return best_chain\n",
    "\n",
    "findLongestAmicableChainCorrected(1000)"
   ]
  },
  {
   "cell_type": "code",
   "execution_count": 12,
   "metadata": {},
   "outputs": [
    {
     "data": {
      "text/plain": [
       "[220, 284]"
      ]
     },
     "execution_count": 12,
     "metadata": {},
     "output_type": "execute_result"
    }
   ],
   "source": [
    "def findLongestAmicableChainOptimized(n):\n",
    "    s = findSarrayMultSqrt(n)  # 약수의 합 계산\n",
    "    max_length = 0\n",
    "    best_chain = []\n",
    "    chain_info = {}  # 탐색 결과를 저장하기 위한 딕셔너리\n",
    "\n",
    "    for start in range(2, n + 1):\n",
    "        if start in chain_info:\n",
    "            continue  # 이미 탐색된 숫자는 건너뛴다\n",
    "\n",
    "        current = start\n",
    "        temp_chain = []  # 현재 탐색 중인 chain\n",
    "        temp_seen = set()  # 현재 탐색 경로에서만 사용하는 seen 집합\n",
    "\n",
    "        while current <= n and current not in temp_seen:\n",
    "            temp_seen.add(current)\n",
    "            temp_chain.append(current)\n",
    "            current = s[current]\n",
    "\n",
    "            # 사이클이 발견되거나 범위를 벗어난 경우\n",
    "            if current in temp_seen or current > n:\n",
    "                if current == start:  # 시작점으로 돌아온 경우, 유효한 사이클\n",
    "                    chain_length = len(temp_chain)\n",
    "                    if chain_length > max_length or (chain_length == max_length and min(temp_chain) < min(best_chain)):\n",
    "                        max_length = chain_length\n",
    "                        best_chain = temp_chain[:]\n",
    "\n",
    "                # 현재 탐색 중인 모든 숫자에 대해 결과 저장\n",
    "                for num in temp_chain:\n",
    "                    chain_info[num] = (len(temp_chain), min(temp_chain) if temp_chain else float('inf'))\n",
    "                break\n",
    "\n",
    "    return best_chain\n",
    "\n",
    "# 최적화된 코드로 다시 테스트\n",
    "findLongestAmicableChainOptimized(1000)\n"
   ]
  },
  {
   "cell_type": "code",
   "execution_count": 16,
   "metadata": {},
   "outputs": [
    {
     "name": "stdout",
     "output_type": "stream",
     "text": [
      "0.025214200001209976 0.0469110400066711\n"
     ]
    }
   ],
   "source": [
    "import timeit\n",
    "n, repeat = 10000, 10   \n",
    "time1 = timeit.timeit(lambda: findLongestAmicableChainCorrected(n), number=repeat)/repeat\n",
    "time2 = timeit.timeit(lambda: findLongestAmicableChainOptimized(n), number=repeat)/repeat\n",
    "print(time1,time2)"
   ]
  }
 ],
 "metadata": {
  "kernelspec": {
   "display_name": "base",
   "language": "python",
   "name": "python3"
  },
  "language_info": {
   "codemirror_mode": {
    "name": "ipython",
    "version": 3
   },
   "file_extension": ".py",
   "mimetype": "text/x-python",
   "name": "python",
   "nbconvert_exporter": "python",
   "pygments_lexer": "ipython3",
   "version": "3.11.5"
  }
 },
 "nbformat": 4,
 "nbformat_minor": 2
}

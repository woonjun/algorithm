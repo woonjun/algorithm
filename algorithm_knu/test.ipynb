{
 "cells": [
  {
   "cell_type": "code",
   "execution_count": null,
   "metadata": {},
   "outputs": [],
   "source": [
    "def hanoi(from_, via_, to_,n):\n",
    "    if(n==0):\n",
    "        return\n",
    "    hanoi(from_,to_,via_,n-1)\n",
    "    print(f'{from_}=>{to_}')\n",
    "    hanoi(via_,from_,to_,n-1)\n",
    "hanoi('A', 'B', 'C',3)\n",
    "    "
   ]
  },
  {
   "cell_type": "code",
   "execution_count": null,
   "metadata": {},
   "outputs": [],
   "source": [
    "def knapsackS(maxSize, names, sizes, values):\n",
    "    memo = [0 for _ in range(maxSize+1)]\n",
    "    for i in range(maxSize+1):\n",
    "        for j in range(len(sizes)):\n",
    "            if i>=sizes[j] and memo[i] <= memo[i - sizes[j]] + values[j]:\n",
    "                memo[i] = memo[i-sizes[j]] + values[j]\n",
    "    return memo[maxSize]\n",
    "\n",
    "\n",
    "def knapsackS(maxSize, names, sizes, values):\n",
    "    memo = [(0,None) for _ in range(maxSize+1)]\n",
    "    for i in range(maxSize+1):\n",
    "        for j in range(len(sizes)):\n",
    "            if i>=sizes[j] and memo[i][0] <= memo[i - sizes[j]][0] + values[j]:\n",
    "                memo[i] = memo[i-sizes[j]][0] + values[j],j\n",
    "    \n",
    "    answer = []\n",
    "    s = maxSize\n",
    "    while(memo[s][1]!=None):\n",
    "        answer.append(names[memo[s][1]])\n",
    "        s = s - sizes[memo[s][1]]\n",
    "\n",
    "    return memo[maxSize][0],answer\n",
    "\n",
    "if __name__ == \"__main__\":\n",
    "    names, sizes, values = ['A'], [5], [10]        \n",
    "    maxSize = 4\n",
    "    print(maxSize, knapsackS(maxSize, names, sizes, values))    \n",
    "    maxSize = 9\n",
    "    print(maxSize, knapsackS(maxSize, names, sizes, values))\n",
    "\n",
    "    names, sizes, values = ['A', 'B', 'C', 'D'], [6, 4, 3, 2], [30, 16, 13, 9]        \n",
    "    for maxSize in range(2, 11):\n",
    "        print(maxSize, knapsackS(maxSize, names, sizes, values))        "
   ]
  },
  {
   "cell_type": "code",
   "execution_count": null,
   "metadata": {},
   "outputs": [],
   "source": [
    "knapsackS(8,[1,2,3,4,5,6,7,8,9,10],[1,2,3,4,5,6,7,8,9,10],[1, 5, 8, 9, 10, 17, 17, 20, 24, 30])"
   ]
  },
  {
   "cell_type": "code",
   "execution_count": 22,
   "metadata": {},
   "outputs": [
    {
     "data": {
      "text/plain": [
       "[[(0, None), (0, None)],\n",
       " [(0, None), (0, 2)],\n",
       " [(0, None), (0, None)],\n",
       " [(0, None), (0, None)]]"
      ]
     },
     "execution_count": 22,
     "metadata": {},
     "output_type": "execute_result"
    }
   ],
   "source": [
    "maxSize=1; maxWeight = 3\n",
    "memo = [[(0,None) for _ in range(maxSize+1)] for _ in range(maxWeight+1)]\n",
    "memo[1][1] = memo[1][1][0],2\n",
    "memo"
   ]
  },
  {
   "cell_type": "code",
   "execution_count": 32,
   "metadata": {},
   "outputs": [
    {
     "data": {
      "text/plain": [
       "((10, 1), ['B'])"
      ]
     },
     "execution_count": 32,
     "metadata": {},
     "output_type": "execute_result"
    }
   ],
   "source": [
    "def kanpsackSW(maxSize, maxWeight, names, sizes, weights, values):\n",
    "    assert len(names) == len(sizes) and len(sizes) == len(weights) and len(weights) == len(values), f\"names({len(names)}, sizes({len(sizes)}, weights({len(weights)}), and values({len(values)}) must have equal lengths\"\n",
    "    memo = [[(0,None) for _ in range(maxWeight+1)] for _ in range(maxSize+1)]\n",
    "    length = len(sizes)\n",
    "    for s in range(maxSize+1):\n",
    "        for w in range(maxWeight+1):\n",
    "            for j in range(length):\n",
    "                if s >= sizes[j] and w >= weights[j]:\n",
    "                    if(memo[s][w][0] <= memo[s-sizes[j]][w-weights[j]][0] + values[j]):\n",
    "                        memo[s][w] = memo[s-sizes[j]][w-weights[j]][0] + values[j], j\n",
    "\n",
    "    s = maxSize; w = max=maxWeight\n",
    "    answer =[]\n",
    "    while(memo[s][w][1]!=None):\n",
    "        answer.append(names[memo[s][w][1]])\n",
    "        s1 = s - sizes[memo[s][w][1]]\n",
    "        w = w - weights[memo[s][w][1]]\n",
    "        s = s1\n",
    "\n",
    "    return memo[maxSize][maxWeight],answer\n",
    "\n",
    "sizes = [3, 2, 1, 4, 1]\n",
    "weights = [2, 1, 3, 2, 1]\n",
    "values = [12, 10, 20, 15, 5]\n",
    "names = ['A', 'B', 'C', 'D', 'E']    \n",
    "\n",
    "kanpsackSW(1, 1, names, sizes, weights, values) #5\n",
    "kanpsackSW(1, 3, names, sizes, weights, values) #20\n",
    "kanpsackSW(2, 1, names, sizes, weights, values) #70"
   ]
  },
  {
   "cell_type": "code",
   "execution_count": 35,
   "metadata": {},
   "outputs": [],
   "source": [
    "def handshake(n):\n",
    "    dp = [0] * (n+2); dp[0] = 1; dp[1] = 1\n",
    "    for i in range(2,n+1):\n",
    "        for j in range(i):\n",
    "            dp[i] += dp[i-j-1] * dp[j] \n",
    "    return dp[n]\n"
   ]
  },
  {
   "cell_type": "code",
   "execution_count": 46,
   "metadata": {},
   "outputs": [
    {
     "data": {
      "text/plain": [
       "'36=1*1*1*1*1*1*1*1*1*1*1*1*1*1*1*1*1*1*1*1*1*1*1*1*1*1*2*2*3*3=1+1+1+1+1+1+1+1+1+1+1+1+1+1+1+1+1+1+1+1+1+1+1+1+1+1+2+2+3+3'"
      ]
     },
     "execution_count": 46,
     "metadata": {},
     "output_type": "execute_result"
    }
   ],
   "source": [
    "def createProductSumSequence(sequence, maxIndex):\n",
    "    '''\n",
    "    Create a product-sum string given a sequence of numbers (e.g., createProductSumSequence([2,3], 1) --> '6=1*2*3=1+2+3')\n",
    "\n",
    "    Input:\n",
    "        sequence -- list of integers\n",
    "        maxIndex -- maximum index to use for sequence (i.e., sequence[0] ~ sequence[maxIndex] are used to create the string)\n",
    "    '''\n",
    "    result = []\n",
    "\n",
    "    product = 1\n",
    "    sum = 0\n",
    "    for i in range(maxIndex+1): \n",
    "        product *= sequence[i]\n",
    "        sum += sequence[i]\n",
    "\n",
    "    result.append(f\"{product}=\")\n",
    "    for i in range(product-sum): result.append(\"1*\")\n",
    "    for i in range(maxIndex+1):\n",
    "        result.append(str(sequence[i]))            \n",
    "        if i<maxIndex: result.append(\"*\")\n",
    "    result.append(\"=\")\n",
    "    for i in range(product-sum): result.append(\"1+\")\n",
    "    for i in range(maxIndex+1):\n",
    "        result.append(str(sequence[i]))            \n",
    "        if i<maxIndex: result.append(\"+\")\n",
    "\n",
    "    return ''.join(result)\n",
    "\n",
    "createProductSumSequence([2,2,3,3],3)"
   ]
  },
  {
   "cell_type": "code",
   "execution_count": 53,
   "metadata": {},
   "outputs": [
    {
     "name": "stdout",
     "output_type": "stream",
     "text": [
      "[[2, 2], [2, 3], [2, 2, 2], [2, 4], [3, 3]]\n"
     ]
    },
    {
     "data": {
      "text/plain": [
       "['4=2*2=2+2',\n",
       " '6=1*2*3=1+2+3',\n",
       " '8=1*1*2*2*2=1+1+2+2+2',\n",
       " '8=1*1*2*4=1+1+2+4',\n",
       " '9=1*1*1*3*3=1+1+1+3+3']"
      ]
     },
     "execution_count": 53,
     "metadata": {},
     "output_type": "execute_result"
    }
   ],
   "source": [
    "def factorize(n):\n",
    "    result = []\n",
    "    def recur(min, number, depth):\n",
    "        if number == 1: \n",
    "            if depth >= 2: result.append(sequence[0:depth])\n",
    "            return\n",
    "        for i in range(min, number+1):\n",
    "            if number % i == 0:\n",
    "                sequence[depth] = i\n",
    "                recur(i, int(number/i), depth+1)\n",
    "    sequence = [0 for _ in range(n)] \n",
    "    recur(2, n, 0)\n",
    "    return result\n",
    "\n",
    "def findProductSum(n):\n",
    "    result=[]; result2=[]\n",
    "    for i in range(n+1):\n",
    "        a = factorize(i)\n",
    "        if len(a) >0:\n",
    "            for j in range(len(factorize(i))):\n",
    "                result.append(factorize(i)[j])\n",
    "    print(result)\n",
    "    for i in range(len(result)):\n",
    "        a = createProductSumSequence(result[i],len(result[i])-1)  \n",
    "        result2.append(a)\n",
    "    return result2\n",
    "\n",
    "findProductSum(9)"
   ]
  },
  {
   "cell_type": "code",
   "execution_count": 82,
   "metadata": {},
   "outputs": [
    {
     "name": "stdout",
     "output_type": "stream",
     "text": [
      "{1: 2, 2: 4, 5: 8, 8: 12, 3: 6, 4: 8, 6: 12, 7: 12}\n"
     ]
    },
    {
     "data": {
      "text/plain": [
       "[4, 6, 8, 8, 12, 12, 12]"
      ]
     },
     "execution_count": 82,
     "metadata": {},
     "output_type": "execute_result"
    }
   ],
   "source": [
    "def findMinimalProductSum(n):\n",
    "    k_to_min_product_sum = {}\n",
    "    k_to_min_product_sum[1] = 2; k_to_min_product_sum[2] = 4\n",
    "    def findFactors(product, sum, start, depth, k_to_min_product_sum):\n",
    "        k = depth + product - sum \n",
    "        if k <= n:\n",
    "            if k not in k_to_min_product_sum or product < k_to_min_product_sum[k]:\n",
    "                k_to_min_product_sum[k] = product\n",
    "            for factor in range(start, n+1): \n",
    "                if product * factor < n**2:  \n",
    "                    findFactors(product * factor, sum + factor, factor, depth + 1, k_to_min_product_sum)\n",
    "    for i in range(2, n+1): \n",
    "        findFactors(i, i, 2, 1, k_to_min_product_sum) \n",
    "    print(k_to_min_product_sum)\n",
    "    return [k_to_min_product_sum[k] for k in range(2, n+1)]\n",
    "findMinimalProductSum(8)"
   ]
  },
  {
   "cell_type": "code",
   "execution_count": 138,
   "metadata": {},
   "outputs": [
    {
     "data": {
      "text/plain": [
       "[14264, 12496, 14288, 15472, 14536]"
      ]
     },
     "execution_count": 138,
     "metadata": {},
     "output_type": "execute_result"
    }
   ],
   "source": [
    "import math\n",
    "def findSarrayMultSqrt(n):\n",
    "    s = [0 for _ in range(n+1)]\n",
    "    for a in range(2, n+1): s[a] = 1\n",
    "    for n1 in range(2, int(math.sqrt(n))+1):\n",
    "        for n2 in range(n1, int(n/n1)+1):\n",
    "            s[n1*n2] += n1\n",
    "            if n2 != n1: s[n1*n2] += n2\n",
    "    return s\n",
    "# print(findSarrayMultSqrt(10))\n",
    "\n",
    "def findLongestAmicableChain(n):\n",
    "    s = findSarrayMultSqrt(n)  \n",
    "    max_length = 0\n",
    "    best_chain = []\n",
    "    experience=set()\n",
    "\n",
    "    for start in range(2, n + 1):\n",
    "        current = start\n",
    "        if start in experience:\n",
    "            continue\n",
    "        chain = []\n",
    "        seen = set()\n",
    "        while current <= n and current not in seen:\n",
    "            seen.add(current)\n",
    "            chain.append(current)\n",
    "            current = s[current]\n",
    "            if current in chain:\n",
    "                if current == start:  \n",
    "                    if len(chain) > max_length or (len(chain) == max_length and min(chain) < min(best_chain)):\n",
    "                        max_length = len(chain)\n",
    "                        best_chain = chain\n",
    "                experience.add(current) \n",
    "                break\n",
    "\n",
    "    return best_chain\n",
    "\n",
    "findLongestAmicableChain(20000)"
   ]
  },
  {
   "cell_type": "code",
   "execution_count": 140,
   "metadata": {},
   "outputs": [
    {
     "name": "stdout",
     "output_type": "stream",
     "text": [
      "[14264, 12496, 14288, 15472, 14536]\n"
     ]
    }
   ],
   "source": []
  }
 ],
 "metadata": {
  "kernelspec": {
   "display_name": "base",
   "language": "python",
   "name": "python3"
  },
  "language_info": {
   "codemirror_mode": {
    "name": "ipython",
    "version": 3
   },
   "file_extension": ".py",
   "mimetype": "text/x-python",
   "name": "python",
   "nbconvert_exporter": "python",
   "pygments_lexer": "ipython3",
   "version": "3.11.5"
  }
 },
 "nbformat": 4,
 "nbformat_minor": 2
}

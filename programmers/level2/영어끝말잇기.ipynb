{
 "cells": [
  {
   "cell_type": "code",
   "execution_count": 52,
   "metadata": {},
   "outputs": [],
   "source": [
    "def solution(n, words):\n",
    "    answer = [0,0]; result = 0; temp=[]\n",
    "    for i in range(1,len(words)):\n",
    "        temp.append(words[i-1])\n",
    "        if(words[i-1][-1] != words[i][0]):\n",
    "            break\n",
    "        elif(words[i] in temp ):\n",
    "            result+=1\n",
    "            break\n",
    "    if(i==len(words)-1 and result==0):\n",
    "        return answer\n",
    "    answer = [n,(i+1)//n] if((i+1)%n==0) else [(i+1)%n,(i+1)//n+1]\n",
    "    return answer\n"
   ]
  },
  {
   "cell_type": "code",
   "execution_count": 53,
   "metadata": {},
   "outputs": [
    {
     "name": "stdout",
     "output_type": "stream",
     "text": [
      "[1, 4]\n"
     ]
    }
   ],
   "source": [
    "n = 5\n",
    "words =[\"hello\", \"observe\", \"effect\", \"take\", \"either\", \"recognize\", \"encourage\", \"ensure\", \"establish\", \"hang\", \"gather\", \"refer\", \"reference\", \"estimate\", \"executive\",\"executive\"]\n",
    "result = solution(n,words)\n",
    "print(result)"
   ]
  }
 ],
 "metadata": {
  "kernelspec": {
   "display_name": "Python 3",
   "language": "python",
   "name": "python3"
  },
  "language_info": {
   "codemirror_mode": {
    "name": "ipython",
    "version": 3
   },
   "file_extension": ".py",
   "mimetype": "text/x-python",
   "name": "python",
   "nbconvert_exporter": "python",
   "pygments_lexer": "ipython3",
   "version": "3.12.0"
  }
 },
 "nbformat": 4,
 "nbformat_minor": 2
}

{
 "cells": [
  {
   "cell_type": "code",
   "execution_count": 35,
   "metadata": {},
   "outputs": [
    {
     "name": "stdout",
     "output_type": "stream",
     "text": [
      "mine = [2, 3] result = [2, 3]\n",
      "mine = [6, 6] result = [6, 6]\n",
      "mine = [0, 2] result = [0, 2]\n",
      "mine = [5, 7] result = [5, 7]\n"
     ]
    }
   ],
   "source": [
    "def calculate_cumulative_sum(sequence):\n",
    "    cumulative_sum = [0]\n",
    "    total = 0\n",
    "    for num in sequence:\n",
    "        total += num\n",
    "        cumulative_sum.append(total)\n",
    "    return cumulative_sum\n",
    "\n",
    "def solution(sequence, k):\n",
    "    answer = []; distance = k//sequence[len(sequence)-1]-1\n",
    "\n",
    "    camulative_sum = calculate_cumulative_sum(sequence)\n",
    "\n",
    "    while(distance<len(sequence)):\n",
    "        start = 0; end = len(sequence)\n",
    "        while(start<=end):\n",
    "            mid = (start+end)//2\n",
    "            try:\n",
    "                if(k>(camulative_sum[mid+1]-camulative_sum[mid-distance])):\n",
    "                    start = mid+1\n",
    "                elif(k<(camulative_sum[mid+1]-camulative_sum[mid-distance])):\n",
    "                    end = mid-1\n",
    "                else:\n",
    "                    if(sequence[mid] == sequence[mid-distance]):\n",
    "                        a = sequence.index(sequence[mid])\n",
    "                        return[a,a+distance]\n",
    "                    else:\n",
    "                        return [mid-distance,mid]\n",
    "            except:\n",
    "                break     \n",
    "\n",
    "        distance+=1\n",
    "    return answer\n",
    "\n",
    "test=[\n",
    "[[1, 2, 3, 4, 5],7,[2, 3]],\n",
    "[[1, 1, 1, 2, 3, 4, 5],\t5,\t[6, 6]],\n",
    "[[2, 2, 2, 2, 2],\t6,\t[0, 2]],\n",
    "[[2,2,2,2,2,10,10,10,10,10,10],30,[5,7]]\n",
    "]\n",
    "for i in range(len(test)):\n",
    "    print(f'mine = {solution(test[i][0],test[i][1])} result = {test[i][2]}')\n"
   ]
  }
 ],
 "metadata": {
  "kernelspec": {
   "display_name": "base",
   "language": "python",
   "name": "python3"
  },
  "language_info": {
   "codemirror_mode": {
    "name": "ipython",
    "version": 3
   },
   "file_extension": ".py",
   "mimetype": "text/x-python",
   "name": "python",
   "nbconvert_exporter": "python",
   "pygments_lexer": "ipython3",
   "version": "3.11.5"
  }
 },
 "nbformat": 4,
 "nbformat_minor": 2
}

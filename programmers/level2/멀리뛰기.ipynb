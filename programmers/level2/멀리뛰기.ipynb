{
 "cells": [
  {
   "cell_type": "code",
   "execution_count": 50,
   "metadata": {},
   "outputs": [],
   "source": [
    "def combination(a,b):\n",
    "    result = 1\n",
    "    for i in range(a-b):\n",
    "        temp = a-i\n",
    "        temp2 = i+1\n",
    "        result = result * temp / temp2\n",
    "    return result\n",
    "def solution(n):\n",
    "    answer = 0\n",
    "    for i in range(n//2+1):\n",
    "        answer += combination(n-i,i)\n",
    "    return answer%1234567"
   ]
  },
  {
   "cell_type": "code",
   "execution_count": 72,
   "metadata": {},
   "outputs": [
    {
     "data": {
      "text/plain": [
       "21035.0"
      ]
     },
     "execution_count": 72,
     "metadata": {},
     "output_type": "execute_result"
    }
   ],
   "source": [
    "solution(1020)"
   ]
  }
 ],
 "metadata": {
  "kernelspec": {
   "display_name": "Python 3",
   "language": "python",
   "name": "python3"
  },
  "language_info": {
   "codemirror_mode": {
    "name": "ipython",
    "version": 3
   },
   "file_extension": ".py",
   "mimetype": "text/x-python",
   "name": "python",
   "nbconvert_exporter": "python",
   "pygments_lexer": "ipython3",
   "version": "3.12.0"
  }
 },
 "nbformat": 4,
 "nbformat_minor": 2
}

{
 "cells": [
  {
   "cell_type": "code",
   "execution_count": 1,
   "metadata": {},
   "outputs": [],
   "source": [
    "import math\n",
    "def solution(r1, r2):\n",
    "    answer = 0\n",
    "    for i in range(1,r2+1):\n",
    "        low = 0 if r1-i<0 else math.ceil(math.sqrt(r1**2-i**2))\n",
    "        high = math.floor(math.sqrt(r2**2-i**2))\n",
    "        print(high,low)\n",
    "        answer += (high+1-low)\n",
    "    answer *=4\n",
    "    return answer"
   ]
  }
 ],
 "metadata": {
  "kernelspec": {
   "display_name": "base",
   "language": "python",
   "name": "python3"
  },
  "language_info": {
   "codemirror_mode": {
    "name": "ipython",
    "version": 3
   },
   "file_extension": ".py",
   "mimetype": "text/x-python",
   "name": "python",
   "nbconvert_exporter": "python",
   "pygments_lexer": "ipython3",
   "version": "3.11.5"
  }
 },
 "nbformat": 4,
 "nbformat_minor": 2
}

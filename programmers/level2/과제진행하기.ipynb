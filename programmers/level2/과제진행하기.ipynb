{
 "cells": [
  {
   "cell_type": "code",
   "execution_count": 84,
   "metadata": {},
   "outputs": [],
   "source": [
    "from datetime import datetime,timedelta\n",
    "#아직 코드짜는중 \n",
    "def solution(plans):\n",
    "    answer = []; i=0; answer2=[]\n",
    "    plans = sorted(plans, key=lambda x: x[1])\n",
    "    now = datetime.strptime(plans[0][1],\"%H:%M\")+timedelta(minutes=int(plans[0][2]))\n",
    "    print(plans)\n",
    "    for i in range(1,len(plans)):\n",
    "        temp = datetime.strptime(plans[i][1],\"%H:%M\")\n",
    "        temp2 = int(plans[i][2])\n",
    "        print(now,temp,end='')\n",
    "        if(now +timedelta(minutes=temp2)>temp):\n",
    "            answer2.append([plans[i-1][0],now-temp])\n",
    "            now = temp\n",
    "        elif(now +timedelta(minutes=temp2)==temp):\n",
    "            now =now +timedelta(minutes=temp2)\n",
    "            answer.append(plans[i-1][0])\n",
    "        else:\n",
    "            now =now +timedelta(minutes=temp2)\n",
    "            temp3 = temp-now\n",
    "            while(temp3):\n",
    "                if(answer2[-1][1]>temp3):\n",
    "                    answer2[-1][1]-=temp3\n",
    "                    break\n",
    "                else:\n",
    "                    del answer2[-1]\n",
    "                    temp3 -=answer2[-1][1]\n",
    "            answer.append(plans[i-1][0])\n",
    "        print(answer,answer2)\n",
    "    answer.append(plans[-1][0])\n",
    "    answer3 = [subject for subject, _ in sorted(answer2, key=lambda x: x[0], reverse=False)]\n",
    "    print(answer,answer2)\n",
    "    answer = answer+answer3\n",
    "    return answer"
   ]
  },
  {
   "cell_type": "code",
   "execution_count": 85,
   "metadata": {},
   "outputs": [
    {
     "name": "stdout",
     "output_type": "stream",
     "text": [
      "[['music', '12:20', '40'], ['computer', '12:30', '100'], ['science', '12:40', '50'], ['history', '14:00', '30']]\n",
      "1900-01-01 13:00:00 1900-01-01 12:30:00[] [['music', datetime.timedelta(seconds=1800)]]\n",
      "1900-01-01 12:30:00 1900-01-01 12:40:00[] [['music', datetime.timedelta(seconds=1800)], ['computer', datetime.timedelta(days=-1, seconds=85800)]]\n",
      "1900-01-01 12:40:00 1900-01-01 14:00:00"
     ]
    },
    {
     "ename": "IndexError",
     "evalue": "list index out of range",
     "output_type": "error",
     "traceback": [
      "\u001b[1;31m---------------------------------------------------------------------------\u001b[0m",
      "\u001b[1;31mIndexError\u001b[0m                                Traceback (most recent call last)",
      "\u001b[1;32mc:\\Users\\82107\\Documents\\GitHub\\algorithm\\programmers\\level2\\과제진행하기.ipynb Cell 2\u001b[0m line \u001b[0;36m3\n\u001b[0;32m      <a href='vscode-notebook-cell:/c%3A/Users/82107/Documents/GitHub/algorithm/programmers/level2/%EA%B3%BC%EC%A0%9C%EC%A7%84%ED%96%89%ED%95%98%EA%B8%B0.ipynb#W3sZmlsZQ%3D%3D?line=0'>1</a>\u001b[0m plans \u001b[39m=\u001b[39m [[\u001b[39m\"\u001b[39m\u001b[39mscience\u001b[39m\u001b[39m\"\u001b[39m, \u001b[39m\"\u001b[39m\u001b[39m12:40\u001b[39m\u001b[39m\"\u001b[39m, \u001b[39m\"\u001b[39m\u001b[39m50\u001b[39m\u001b[39m\"\u001b[39m], [\u001b[39m\"\u001b[39m\u001b[39mmusic\u001b[39m\u001b[39m\"\u001b[39m, \u001b[39m\"\u001b[39m\u001b[39m12:20\u001b[39m\u001b[39m\"\u001b[39m, \u001b[39m\"\u001b[39m\u001b[39m40\u001b[39m\u001b[39m\"\u001b[39m], [\u001b[39m\"\u001b[39m\u001b[39mhistory\u001b[39m\u001b[39m\"\u001b[39m, \u001b[39m\"\u001b[39m\u001b[39m14:00\u001b[39m\u001b[39m\"\u001b[39m, \u001b[39m\"\u001b[39m\u001b[39m30\u001b[39m\u001b[39m\"\u001b[39m], [\u001b[39m\"\u001b[39m\u001b[39mcomputer\u001b[39m\u001b[39m\"\u001b[39m, \u001b[39m\"\u001b[39m\u001b[39m12:30\u001b[39m\u001b[39m\"\u001b[39m, \u001b[39m\"\u001b[39m\u001b[39m100\u001b[39m\u001b[39m\"\u001b[39m]]\n\u001b[0;32m      <a href='vscode-notebook-cell:/c%3A/Users/82107/Documents/GitHub/algorithm/programmers/level2/%EA%B3%BC%EC%A0%9C%EC%A7%84%ED%96%89%ED%95%98%EA%B8%B0.ipynb#W3sZmlsZQ%3D%3D?line=1'>2</a>\u001b[0m result \u001b[39m=\u001b[39m [\u001b[39m\"\u001b[39m\u001b[39mscience\u001b[39m\u001b[39m\"\u001b[39m, \u001b[39m\"\u001b[39m\u001b[39mhistory\u001b[39m\u001b[39m\"\u001b[39m, \u001b[39m\"\u001b[39m\u001b[39mcomputer\u001b[39m\u001b[39m\"\u001b[39m, \u001b[39m\"\u001b[39m\u001b[39mmusic\u001b[39m\u001b[39m\"\u001b[39m]\n\u001b[1;32m----> <a href='vscode-notebook-cell:/c%3A/Users/82107/Documents/GitHub/algorithm/programmers/level2/%EA%B3%BC%EC%A0%9C%EC%A7%84%ED%96%89%ED%95%98%EA%B8%B0.ipynb#W3sZmlsZQ%3D%3D?line=2'>3</a>\u001b[0m a \u001b[39m=\u001b[39m solution(plans)\n\u001b[0;32m      <a href='vscode-notebook-cell:/c%3A/Users/82107/Documents/GitHub/algorithm/programmers/level2/%EA%B3%BC%EC%A0%9C%EC%A7%84%ED%96%89%ED%95%98%EA%B8%B0.ipynb#W3sZmlsZQ%3D%3D?line=3'>4</a>\u001b[0m \u001b[39mprint\u001b[39m(a,result)\n",
      "\u001b[1;32mc:\\Users\\82107\\Documents\\GitHub\\algorithm\\programmers\\level2\\과제진행하기.ipynb Cell 2\u001b[0m line \u001b[0;36m2\n\u001b[0;32m     <a href='vscode-notebook-cell:/c%3A/Users/82107/Documents/GitHub/algorithm/programmers/level2/%EA%B3%BC%EC%A0%9C%EC%A7%84%ED%96%89%ED%95%98%EA%B8%B0.ipynb#W3sZmlsZQ%3D%3D?line=24'>25</a>\u001b[0m         \u001b[39melse\u001b[39;00m:\n\u001b[0;32m     <a href='vscode-notebook-cell:/c%3A/Users/82107/Documents/GitHub/algorithm/programmers/level2/%EA%B3%BC%EC%A0%9C%EC%A7%84%ED%96%89%ED%95%98%EA%B8%B0.ipynb#W3sZmlsZQ%3D%3D?line=25'>26</a>\u001b[0m             \u001b[39mdel\u001b[39;00m answer2[\u001b[39m0\u001b[39m]\n\u001b[1;32m---> <a href='vscode-notebook-cell:/c%3A/Users/82107/Documents/GitHub/algorithm/programmers/level2/%EA%B3%BC%EC%A0%9C%EC%A7%84%ED%96%89%ED%95%98%EA%B8%B0.ipynb#W3sZmlsZQ%3D%3D?line=26'>27</a>\u001b[0m             temp3 \u001b[39m-\u001b[39m\u001b[39m=\u001b[39manswer[\u001b[39m0\u001b[39m][\u001b[39m1\u001b[39m]\n\u001b[0;32m     <a href='vscode-notebook-cell:/c%3A/Users/82107/Documents/GitHub/algorithm/programmers/level2/%EA%B3%BC%EC%A0%9C%EC%A7%84%ED%96%89%ED%95%98%EA%B8%B0.ipynb#W3sZmlsZQ%3D%3D?line=27'>28</a>\u001b[0m     answer\u001b[39m.\u001b[39mappend(plans[i\u001b[39m-\u001b[39m\u001b[39m1\u001b[39m][\u001b[39m0\u001b[39m])\n\u001b[0;32m     <a href='vscode-notebook-cell:/c%3A/Users/82107/Documents/GitHub/algorithm/programmers/level2/%EA%B3%BC%EC%A0%9C%EC%A7%84%ED%96%89%ED%95%98%EA%B8%B0.ipynb#W3sZmlsZQ%3D%3D?line=28'>29</a>\u001b[0m \u001b[39mprint\u001b[39m(answer,answer2)\n",
      "\u001b[1;31mIndexError\u001b[0m: list index out of range"
     ]
    }
   ],
   "source": [
    "plans = [[\"science\", \"12:40\", \"50\"], [\"music\", \"12:20\", \"40\"], [\"history\", \"14:00\", \"30\"], [\"computer\", \"12:30\", \"100\"]]\n",
    "result = [\"science\", \"history\", \"computer\", \"music\"]\n",
    "a = solution(plans)\n",
    "print(a,result)"
   ]
  },
  {
   "cell_type": "code",
   "execution_count": 19,
   "metadata": {},
   "outputs": [
    {
     "name": "stdout",
     "output_type": "stream",
     "text": [
      "1900-01-02 00:20:00\n"
     ]
    }
   ],
   "source": [
    "from datetime import datetime, timedelta\n",
    "today = datetime.strptime('11:40', '%H:%M')\n",
    "a = datetime.strptime('12:40', '%H:%M')\n",
    "print(today + timedelta(hours=a.hour,minutes=a.minute))\n"
   ]
  }
 ],
 "metadata": {
  "kernelspec": {
   "display_name": "base",
   "language": "python",
   "name": "python3"
  },
  "language_info": {
   "codemirror_mode": {
    "name": "ipython",
    "version": 3
   },
   "file_extension": ".py",
   "mimetype": "text/x-python",
   "name": "python",
   "nbconvert_exporter": "python",
   "pygments_lexer": "ipython3",
   "version": "3.11.5"
  }
 },
 "nbformat": 4,
 "nbformat_minor": 2
}

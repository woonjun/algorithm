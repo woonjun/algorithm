{
 "cells": [
  {
   "cell_type": "code",
   "execution_count": 91,
   "metadata": {},
   "outputs": [],
   "source": [
    "from datetime import datetime,timedelta\n",
    "#아직 코드짜는중 222\n",
    "def solution(plans):\n",
    "    answer = []; i=0; answer2=[]\n",
    "    plans = sorted(plans, key=lambda x: x[1])\n",
    "    now = datetime.strptime(plans[0][1],\"%H:%M\")+timedelta(minutes=int(plans[0][2]))\n",
    "    print(plans)\n",
    "    for i in range(1,len(plans)):\n",
    "        temp = datetime.strptime(plans[i][1],\"%H:%M\")\n",
    "        temp2 = int(plans[i][2])\n",
    "        print(now,temp,end='')\n",
    "        if(now +timedelta(minutes=temp2)>temp):\n",
    "            answer2.append([plans[i-1][0],now-temp])\n",
    "            now = temp\n",
    "        elif(now +timedelta(minutes=temp2)==temp):\n",
    "            now =now +timedelta(minutes=temp2)\n",
    "            answer.append(plans[i-1][0])\n",
    "        else:\n",
    "            now =now +timedelta(minutes=temp2)\n",
    "            temp3 = temp-now\n",
    "            while(temp3):\n",
    "                if(answer2[-1][1]>temp3):\n",
    "                    answer2[-1][1]-=temp3\n",
    "                    break\n",
    "                else:\n",
    "                    answer.append(answer2[-1][0])\n",
    "                    del answer2[-1]\n",
    "                    temp3 -=answer2[-1][1]\n",
    "            answer.append(plans[i-1][0])\n",
    "        print(answer,answer2)\n",
    "    answer.append(plans[-1][0])\n",
    "    answer3 = [subject for subject, _ in sorted(answer2, key=lambda x: x[0], reverse=False)]\n",
    "    print(answer,answer2)\n",
    "    answer = answer+answer3\n",
    "    return answer"
   ]
  },
  {
   "cell_type": "code",
   "execution_count": 92,
   "metadata": {},
   "outputs": [
    {
     "name": "stdout",
     "output_type": "stream",
     "text": [
      "[['music', '12:20', '40'], ['computer', '12:30', '100'], ['science', '12:40', '50'], ['history', '14:00', '30']]\n",
      "1900-01-01 13:00:00 1900-01-01 12:30:00[] [['music', datetime.timedelta(seconds=1800)]]\n",
      "1900-01-01 12:30:00 1900-01-01 12:40:00[] [['music', datetime.timedelta(seconds=1800)], ['computer', datetime.timedelta(days=-1, seconds=85800)]]\n",
      "1900-01-01 12:40:00 1900-01-01 14:00:00['computer', 'science'] [['music', datetime.timedelta(seconds=600)]]\n",
      "['computer', 'science', 'history'] [['music', datetime.timedelta(seconds=600)]]\n",
      "['computer', 'science', 'history', 'music'] ['science', 'history', 'computer', 'music']\n"
     ]
    }
   ],
   "source": [
    "plans = [[\"science\", \"12:40\", \"50\"], [\"music\", \"12:20\", \"40\"], [\"history\", \"14:00\", \"30\"], [\"computer\", \"12:30\", \"100\"]]\n",
    "result = [\"science\", \"history\", \"computer\", \"music\"]\n",
    "a = solution(plans)\n",
    "print(a,result)"
   ]
  },
  {
   "cell_type": "code",
   "execution_count": 19,
   "metadata": {},
   "outputs": [
    {
     "name": "stdout",
     "output_type": "stream",
     "text": [
      "1900-01-02 00:20:00\n"
     ]
    }
   ],
   "source": [
    "from datetime import datetime, timedelta\n",
    "today = datetime.strptime('11:40', '%H:%M')\n",
    "a = datetime.strptime('12:40', '%H:%M')\n",
    "print(today + timedelta(hours=a.hour,minutes=a.minute))\n"
   ]
  }
 ],
 "metadata": {
  "kernelspec": {
   "display_name": "base",
   "language": "python",
   "name": "python3"
  },
  "language_info": {
   "codemirror_mode": {
    "name": "ipython",
    "version": 3
   },
   "file_extension": ".py",
   "mimetype": "text/x-python",
   "name": "python",
   "nbconvert_exporter": "python",
   "pygments_lexer": "ipython3",
   "version": "3.11.5"
  }
 },
 "nbformat": 4,
 "nbformat_minor": 2
}

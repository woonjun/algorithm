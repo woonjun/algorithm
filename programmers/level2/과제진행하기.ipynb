{
 "cells": [
  {
   "cell_type": "code",
   "execution_count": 216,
   "metadata": {},
   "outputs": [],
   "source": [
    "def time_plus(time1,time2, flag):\n",
    "    minutes = eval(time1[3:] + flag +  time2)\n",
    "    hours = f\"{(int(time1[:2]) + minutes//60):02d}\"\n",
    "    minutes = f\"{minutes%60:02d}\"\n",
    "    return hours + ':' + minutes\n",
    "def time_minus(time1,time2):\n",
    "    time1 = int(time1[:2])*60 + int(time1[3:])\n",
    "    time2 = int(time2[:2])*60 + int(time2[3:])\n",
    "    return str(time1-time2)\n",
    "def solution(plans):\n",
    "    plans.sort(key=lambda x : x[1])\n",
    "    answer = []; now = plans[0][1]; i=0; stack=[]; \n",
    "    while(i<len(plans)):\n",
    "        if(time_plus(now,plans[i][2],'+') > plans[i+1][1]):\n",
    "            temp = time_plus(now,plans[i][2],'+')\n",
    "            plans[i][2] = time_minus(temp,plans[i+1][1])\n",
    "            stack.append(plans[i])\n",
    "            now = plans[i+1][1] \n",
    "            i+=1\n",
    "        else:\n",
    "            answer.append(plans[i][0])\n",
    "            now = time_plus(now,plans[i][2],'+')\n",
    "            if(not stack):\n",
    "                i+=1\n",
    "                continue\n",
    "            if(time_plus(now,stack[-1][2],'+') > plans[i+1][1]):\n",
    "                temp = time_plus(now,stack[-1][2],'+')\n",
    "                now = plans[i+1][1]\n",
    "                stack[-1][2] = time_minus(temp,now)\n",
    "                i+=1\n",
    "            else:\n",
    "                while((time_plus(now,stack[-1][2],'+') <= plans[i+1][1])):\n",
    "                    now = time_plus(now,stack[-1][2],'+')\n",
    "                    answer.append(stack[-1][0])\n",
    "                    stack.pop(-1)\n",
    "                    if(not stack):\n",
    "                        break\n",
    "                i+=1\n",
    "    answer.append(plans[i][0])\n",
    "    while(stack):\n",
    "        answer.append(stack[-1][0])\n",
    "        stack.pop(-1)\n",
    "    return answer"
   ]
  },
  {
   "cell_type": "code",
   "execution_count": 189,
   "metadata": {},
   "outputs": [
    {
     "name": "stdout",
     "output_type": "stream",
     "text": [
      "['science', 'history', 'computer', 'music'] ['science', 'history', 'computer', 'music']\n"
     ]
    }
   ],
   "source": [
    "plans = [[\"science\", \"12:40\", \"50\"], [\"music\", \"12:20\", \"40\"], [\"history\", \"14:00\", \"30\"], [\"computer\", \"12:30\", \"100\"]]\n",
    "result = [\"science\", \"history\", \"computer\", \"music\"]\n",
    "a = solution(plans)\n",
    "print(a,result)"
   ]
  },
  {
   "cell_type": "code",
   "execution_count": 215,
   "metadata": {},
   "outputs": [
    {
     "name": "stdout",
     "output_type": "stream",
     "text": [
      "00:35 ['4'] []\n",
      "00:45 ['4', '5'] []\n",
      "01:56 ['4', '5', '2'] []\n",
      "03:36 ['4', '5', '2', '1'] []\n",
      "['4', '5', '2', '1', '3']\n"
     ]
    }
   ],
   "source": [
    "plans = [[\"1\", \"23:59\", \"100\"], [\"2\", \"22:47\", \"71\"], [\"3\", \"5:99\", \"10\"], [\"4\", \"00:25\", \"10\"], [\"5\", \"01:10\", \"10\"]]\n",
    "plans.sort(key=lambda x : x[1])\n",
    "answer = []; now = plans[0][1]; i=0; stack=[]; \n",
    "while(i!=len(plans)-1):\n",
    "    if(time_plus(now,plans[i][2],'+') > plans[i+1][1]):\n",
    "        temp = time_plus(now,plans[i][2],'+')\n",
    "        plans[i][2] = time_minus(temp,plans[i+1][1])\n",
    "        stack.append(plans[i])\n",
    "        now = plans[i+1][1] \n",
    "        i+=1\n",
    "    else:\n",
    "        answer.append(plans[i][0])\n",
    "        now = time_plus(now,plans[i][2],'+')\n",
    "        if(not stack):\n",
    "            i+=1\n",
    "            print(now,answer,stack)\n",
    "            continue\n",
    "        if(time_plus(now,stack[-1][2],'+') > plans[i+1][1]):\n",
    "            temp = time_plus(now,stack[-1][2],'+')\n",
    "            now = plans[i+1][1]\n",
    "            stack[-1][2] = time_minus(temp,now)\n",
    "            i+=1\n",
    "        else:\n",
    "            while((time_plus(now,stack[-1][2],'+') <= plans[i+1][1])):\n",
    "                now = time_plus(now,stack[-1][2],'+')\n",
    "                answer.append(stack[-1][0])\n",
    "                stack.pop(-1)\n",
    "                if(not stack):\n",
    "                    break\n",
    "            i+=1\n",
    "    print(now,answer,stack)\n",
    "answer.append(plans[i][0])\n",
    "while(stack):\n",
    "    answer.append(stack[-1][0])\n",
    "    stack.pop(-1)\n",
    "print(answer)"
   ]
  },
  {
   "cell_type": "code",
   "execution_count": 194,
   "metadata": {},
   "outputs": [
    {
     "data": {
      "text/plain": [
       "[['a', '09:00', '10'],\n",
       " ['b', '09:10', '10'],\n",
       " ['c', '09:15', '10'],\n",
       " ['d', '09:30', '10'],\n",
       " ['e', '09:35', '10']]"
      ]
     },
     "execution_count": 194,
     "metadata": {},
     "output_type": "execute_result"
    }
   ],
   "source": [
    "plans = [[\"a\", \"09:00\", \"10\"], [\"b\", \"09:10\", \"10\"], [\"c\", \"09:15\", \"10\"], [\"d\", \"09:30\", \"10\"], [\"e\", \"09:35\", \"10\"]]\n",
    "plans.sort(key=lambda x : x[1])\n",
    "plans"
   ]
  },
  {
   "cell_type": "code",
   "execution_count": 174,
   "metadata": {},
   "outputs": [
    {
     "name": "stdout",
     "output_type": "stream",
     "text": [
      "11:40\n",
      "12:10\n",
      "11:40\n"
     ]
    }
   ],
   "source": [
    "plans = [[\"korean\", \"11:40\", \"30\"], [\"english\", \"12:10\", \"20\"], [\"math\", \"12:30\", \"40\"]]\n",
    "plans.sort(key=lambda x : x[1])\n",
    "now = plans[0][1]\n",
    "print(now)\n",
    "if(time_plus(now,plans[0][2],'+') > plans[1][1]):\n",
    "    print(now)\n",
    "print(time_plus(now,plans[0][2],'+'))\n",
    "print(now)"
   ]
  },
  {
   "cell_type": "code",
   "execution_count": 146,
   "metadata": {},
   "outputs": [
    {
     "data": {
      "text/plain": [
       "2"
      ]
     },
     "execution_count": 146,
     "metadata": {},
     "output_type": "execute_result"
    }
   ],
   "source": [
    "'''\n",
    "현재 시간이랑 남은시간이랑 더해서 그 뒷타임 시간에 빼\n",
    "그리고 현재과목의 남은시간을 바꿔줘\n",
    "music, 12:20 , 30\n",
    "\n",
    "그러면 now = 12:30, stack[music, 12:20, 30]\n",
    "그다음 하던대로 한번 더 12:30+100 > 12:40 므로 다시 \n",
    "stack[computer, 12:30,90(12:30+100-12:40)]\n",
    "\n",
    "그다음 하던대로 \n",
    "now = 12:40, 하던대로 12:40+50 < 14:00 이므로 stack에 안넣음\n",
    "그러면 이제 stack이랑 비교하기 시작하는거지\n",
    "now를 일단 13:30(12:40 + 50)으로 바꿔줘\n",
    "\n",
    "그리고 stack에 마지막 값이 computer, 12:30, 90)이잖아\n",
    "이제 13:30(now) + 90 > 14:00이므로, \n",
    "stack에 다시 computer, 12:30, 30(13:30+90-14:00) 한 값으로 \n",
    "바꿔줘  now = 14:00으로 해놓고\n",
    "\n",
    "\n",
    "근데 만약에 stack 마지막 값이 computer, 12:30, 10 이였어봐\n",
    "그러면 13:30 + 10 < 14:00 이므로\n",
    "now를 13:40으로 변경시키고, queue 마지막꺼 pop하고 \n",
    "\n",
    "\n",
    "그다음 다시 하던대로 14:00 + 30, 근데 그 뒤에 없으니까 꺼낸거 순서대로 ... \n",
    "\n",
    "'''\n",
    "i"
   ]
  },
  {
   "cell_type": "code",
   "execution_count": 187,
   "metadata": {},
   "outputs": [
    {
     "name": "stdout",
     "output_type": "stream",
     "text": [
      "['bbb', 'ccc', 'aaa']\n"
     ]
    }
   ],
   "source": [
    "plans = [[\"aaa\", \"12:00\", \"20\"], [\"bbb\", \"12:10\", \"30\"], [\"ccc\", \"12:40\", \"10\"]]\n",
    "plans.sort(key=lambda x : x[1])\n",
    "answer = []; now = plans[0][1]; i=0; stack=[]; \n",
    "while(i!=len(plans)-1):\n",
    "    if(time_plus(now,plans[i][2],'+') > plans[i+1][1]):\n",
    "        temp = time_plus(now,plans[i][2],'+')\n",
    "        plans[i][2] = time_minus(temp,plans[i+1][1])\n",
    "        stack.append(plans[i])\n",
    "        now = plans[i+1][1] \n",
    "        i+=1\n",
    "    else:\n",
    "        answer.append(plans[i][0])\n",
    "        now = time_plus(now,plans[i][2],'+')\n",
    "        if(not stack):\n",
    "            i+=1\n",
    "            continue\n",
    "        if(time_plus(now,stack[-1][2],'+') > plans[i+1][1]):\n",
    "            temp = time_plus(now,stack[-1][2],'+')\n",
    "            now = plans[i+1][1]\n",
    "            stack[-1][2] = time_minus(temp,now)\n",
    "            i+=1\n",
    "        else:\n",
    "            while((time_plus(now,stack[-1][2],'+') < plans[i+1][1]) or (not stack)):\n",
    "                now = time_plus(now,stack[-1][2],'+')\n",
    "                answer.append(stack.pop(-1))\n",
    "answer.append(plans[i][0])\n",
    "while(stack):\n",
    "    answer.append(stack[-1][0])\n",
    "    stack.pop(-1)\n",
    "print(answer)"
   ]
  }
 ],
 "metadata": {
  "kernelspec": {
   "display_name": "base",
   "language": "python",
   "name": "python3"
  },
  "language_info": {
   "codemirror_mode": {
    "name": "ipython",
    "version": 3
   },
   "file_extension": ".py",
   "mimetype": "text/x-python",
   "name": "python",
   "nbconvert_exporter": "python",
   "pygments_lexer": "ipython3",
   "version": "3.12.0"
  }
 },
 "nbformat": 4,
 "nbformat_minor": 2
}

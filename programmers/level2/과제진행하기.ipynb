{
 "cells": [
  {
   "cell_type": "code",
   "execution_count": 19,
   "metadata": {},
   "outputs": [],
   "source": [
    "from datetime import datetime,timedelta\n",
    "#아직 코드짜는중 222\n",
    "def solution(plans):\n",
    "    answer = []; i=0; answer2=[]\n",
    "    plans = sorted(plans, key=lambda x: x[1])\n",
    "    now = datetime.strptime(plans[0][1],\"%H:%M\")\n",
    "    print(plans)\n",
    "    for i in range(1,len(plans)):\n",
    "        temp = datetime.strptime(plans[i][1],\"%H:%M\")\n",
    "        temp2 = int(plans[i][2])\n",
    "        print(now,temp,end='')\n",
    "        if(now +timedelta(minutes=temp2)>temp): #시작시간 + 경과시간이 다음 시작시간 보다 클때, answer2에 과목과 남은시간 저장 \n",
    "            temp3 = timedelta(minutes=int(plans[i][-1]))-(temp-now) \n",
    "            answer2.append([plans[i-1][0],temp3])\n",
    "            now = temp\n",
    "        elif(now +timedelta(minutes=temp2)==temp): #시작시간 + 경과시간이 다음 시작시간과 같을때 answer에 추가 후 넘기기\n",
    "            now =now +timedelta(minutes=temp2)\n",
    "            answer.append(plans[i-1][0])\n",
    "        else: #시작시간 + 경과시간이 다음 시작시간보다 작을때, answer에 추가하고, answer2의 마지막에 담은거 꺼내서 비교\n",
    "            now =now +timedelta(minutes=temp2)\n",
    "            temp3 = temp-now\n",
    "            while(temp3):\n",
    "                if(answer2[-1][1]>temp3): #answer2의 마지막에 담긴시간이 남아 있는 시간 보다 클때, answer2의 남은시간 감소\n",
    "                    answer2[-1][1]-=temp3\n",
    "                    break\n",
    "                else:#answer2의 마지막에 담긴시간이 남아 있는 시간 보다 작을때, answer에다가 answer2담은거 옮기고, answer2 제거하고 남은시간 또 감소\n",
    "                    answer.append(answer2[-1][0])\n",
    "                    del answer2[-1]\n",
    "                    temp3 -=answer2[-1][1]\n",
    "            answer.append(plans[i-1][0])\n",
    "        print(answer,answer2)\n",
    "    answer.append(plans[-1][0])\n",
    "    answer3 = [subject for subject, _ in sorted(answer2, key=lambda x: x[0], reverse=False)]\n",
    "    print(answer,answer2)\n",
    "    answer = answer+answer3\n",
    "    return answer"
   ]
  },
  {
   "cell_type": "code",
   "execution_count": 20,
   "metadata": {},
   "outputs": [
    {
     "name": "stdout",
     "output_type": "stream",
     "text": [
      "[['music', '12:20', '40'], ['computer', '12:30', '100'], ['science', '12:40', '50'], ['history', '14:00', '30']]\n",
      "1900-01-01 12:20:00 1900-01-01 12:30:00[] [['music', datetime.timedelta(seconds=5400)]]\n",
      "1900-01-01 12:30:00 1900-01-01 12:40:00[] [['music', datetime.timedelta(seconds=5400)], ['computer', datetime.timedelta(seconds=2400)]]\n",
      "1900-01-01 12:40:00 1900-01-01 14:00:00['computer', 'science'] [['music', datetime.timedelta(seconds=7800)]]\n",
      "['computer', 'science', 'history'] [['music', datetime.timedelta(seconds=7800)]]\n",
      "['computer', 'science', 'history', 'music'] ['science', 'history', 'computer', 'music']\n"
     ]
    }
   ],
   "source": [
    "plans = [[\"science\", \"12:40\", \"50\"], [\"music\", \"12:20\", \"40\"], [\"history\", \"14:00\", \"30\"], [\"computer\", \"12:30\", \"100\"]]\n",
    "result = [\"science\", \"history\", \"computer\", \"music\"]\n",
    "a = solution(plans)\n",
    "print(a,result)"
   ]
  },
  {
   "cell_type": "code",
   "execution_count": 14,
   "metadata": {},
   "outputs": [
    {
     "name": "stdout",
     "output_type": "stream",
     "text": [
      "0:50:00\n"
     ]
    }
   ],
   "source": [
    "from datetime import datetime, timedelta\n",
    "today = datetime.strptime('11:40', '%H:%M')\n",
    "a = datetime.strptime('12:40', '%H:%M')\n",
    "print(timedelta(minutes=int(plans[0][-1])) )\n"
   ]
  }
 ],
 "metadata": {
  "kernelspec": {
   "display_name": "base",
   "language": "python",
   "name": "python3"
  },
  "language_info": {
   "codemirror_mode": {
    "name": "ipython",
    "version": 3
   },
   "file_extension": ".py",
   "mimetype": "text/x-python",
   "name": "python",
   "nbconvert_exporter": "python",
   "pygments_lexer": "ipython3",
   "version": "3.11.5"
  }
 },
 "nbformat": 4,
 "nbformat_minor": 2
}

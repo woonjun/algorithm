{
 "cells": [
  {
   "cell_type": "code",
   "execution_count": 48,
   "metadata": {},
   "outputs": [],
   "source": [
    "def solution(n, arr1, arr2):\n",
    "    answer = []; temp1=[]; temp2=[]\n",
    "    for i in range(n):\n",
    "        temp1.append(format(arr1[i], f'#0{n+2}b'))\n",
    "        temp2.append(format(arr2[i], f'#0{n+2}b'))\n",
    "\n",
    "    for j in range(n):\n",
    "        temp3=''\n",
    "        for k in range(n):\n",
    "            if((int(temp1[j][2+k]) +  int(temp2[j][2+k]))!=0):\n",
    "                temp3+='#'\n",
    "            else:\n",
    "                temp3+=' '\n",
    "        answer.append(temp3)\n",
    "    return answer"
   ]
  },
  {
   "cell_type": "code",
   "execution_count": 50,
   "metadata": {},
   "outputs": [],
   "source": [
    "#다른사람풀이\n",
    "def solution(n, arr1, arr2):\n",
    "    answer = []\n",
    "    for i,j in zip(arr1,arr2):\n",
    "        a12 = str(bin(i|j)[2:])\n",
    "        a12=a12.rjust(n,'0')\n",
    "        a12=a12.replace('1','#')\n",
    "        a12=a12.replace('0',' ')\n",
    "        answer.append(a12)\n",
    "    return answer"
   ]
  },
  {
   "cell_type": "markdown",
   "metadata": {},
   "source": [
    "기가막히네, bin(i|j) 라는 비트연산자 활용을 까먹고있었다.\n",
    "\n",
    "rjust라는 새로운 정렬방식도 배웠다."
   ]
  }
 ],
 "metadata": {
  "kernelspec": {
   "display_name": "Python 3",
   "language": "python",
   "name": "python3"
  },
  "language_info": {
   "codemirror_mode": {
    "name": "ipython",
    "version": 3
   },
   "file_extension": ".py",
   "mimetype": "text/x-python",
   "name": "python",
   "nbconvert_exporter": "python",
   "pygments_lexer": "ipython3",
   "version": "3.12.0"
  }
 },
 "nbformat": 4,
 "nbformat_minor": 2
}

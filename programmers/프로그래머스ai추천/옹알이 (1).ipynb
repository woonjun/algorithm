{
 "cells": [
  {
   "cell_type": "code",
   "execution_count": 27,
   "metadata": {},
   "outputs": [],
   "source": [
    "def solution(babbling):\n",
    "    answer = 0\n",
    "    for babble in babbling:\n",
    "        babble = babble.replace('aya','2')\n",
    "        babble = babble.replace('ye','2')\n",
    "        babble = babble.replace('woo','1')\n",
    "        babble = babble.replace('ma','2')\n",
    "        if(babble.isdigit()):\n",
    "            answer +=1      \n",
    "    return answer"
   ]
  },
  {
   "cell_type": "code",
   "execution_count": 31,
   "metadata": {},
   "outputs": [],
   "source": [
    "#다른사람풀이\n",
    "import re\n",
    "\n",
    "def solution(babbling):\n",
    "    regex = re.compile('^(aya|ye|woo|ma)+$')\n",
    "    cnt=0\n",
    "    for e in babbling:\n",
    "        if regex.match(e):\n",
    "            cnt+=1\n",
    "    return cnt\n"
   ]
  },
  {
   "cell_type": "markdown",
   "metadata": {},
   "source": [
    "re가 뭔지 처음 알았다. \n",
    "\n",
    "re를 사용하면 쉽게 문자열에 무엇이 존재하는지 알 수 있을것 갔다\n",
    "\n",
    "re.match('a','ab') = match()는 문자열의 처음부터 시작해서 작성한 패턴이 일치하는지 확인한다.\n",
    "\n",
    "re.search('a','ab') = search()는 그냥 패턴이 들어가있는지 확인\n",
    "\n",
    "re.findall('\\d', '숫자123이 이렇게56 있다8' = findall())은 문자열 안에 패턴에 맞는 케이스를 전부 찾아준다. \n",
    "\n",
    "re.finditer = finditer()은 findall과 유사하지만 iterator형식으로 반환\n",
    "\n",
    "re.sub = sub()는 문자열에 맞는 패턴을 2번째 인자로 교체해준다. "
   ]
  }
 ],
 "metadata": {
  "kernelspec": {
   "display_name": "Python 3",
   "language": "python",
   "name": "python3"
  },
  "language_info": {
   "codemirror_mode": {
    "name": "ipython",
    "version": 3
   },
   "file_extension": ".py",
   "mimetype": "text/x-python",
   "name": "python",
   "nbconvert_exporter": "python",
   "pygments_lexer": "ipython3",
   "version": "3.12.0"
  }
 },
 "nbformat": 4,
 "nbformat_minor": 2
}

{
 "cells": [
  {
   "cell_type": "code",
   "execution_count": 69,
   "metadata": {},
   "outputs": [],
   "source": [
    "def solution(board):\n",
    "    answer = 0\n",
    "    for i, row in enumerate(board):\n",
    "        for j,letter in enumerate(row):\n",
    "            if(letter == 1):\n",
    "                for k in range(-1,2):\n",
    "                    try:\n",
    "                        board[i][abs(j+k)] = 2 if board[i][abs(j+k)] != 1 else 1\n",
    "                        board[abs(i-1)][abs(j+k)] = 2 if board[abs(i-1)][abs(j+k)] != 1 else 1\n",
    "                        board[i+1][abs(j+k)] = 2 if board[i+1][abs(j+k)] != 1 else 1\n",
    "                    except:\n",
    "                        pass\n",
    "    print(board)\n",
    "    for i in board:\n",
    "        answer += i.count(0)\n",
    "    return answer"
   ]
  },
  {
   "cell_type": "code",
   "execution_count": 72,
   "metadata": {},
   "outputs": [
    {
     "name": "stdout",
     "output_type": "stream",
     "text": [
      "{(2, 1), (4, 3), (3, 1), (4, 2), (2, 3), (3, 3), (2, 2), (3, 2), (4, 1)}\n"
     ]
    },
    {
     "data": {
      "text/plain": [
       "16"
      ]
     },
     "execution_count": 72,
     "metadata": {},
     "output_type": "execute_result"
    }
   ],
   "source": [
    "#다른사람풀이\n",
    "def solution(board):\n",
    "    n = len(board)\n",
    "    danger = set()\n",
    "    for i, row in enumerate(board):\n",
    "        for j, x in enumerate(row):\n",
    "            if not x:\n",
    "                continue\n",
    "            danger.update((i+di, j+dj) for di in [-1,0,1] for dj in [-1, 0, 1])\n",
    "    print(danger)\n",
    "    return n*n - sum(0 <= i < n and 0 <= j < n for i, j in danger)\n",
    "solution([[0, 0, 0, 0, 0], [0, 0, 0, 0, 0], [0, 0, 0, 0, 0], [0, 0, 1, 0, 0], [0, 0, 0, 0, 0]])"
   ]
  },
  {
   "cell_type": "code",
   "execution_count": null,
   "metadata": {},
   "outputs": [],
   "source": [
    "#오답노트 \n",
    "''' \n",
    "set으로 중복된 답 제거 + update로 한번에 처리 가능 ㅎㄷㄷ\n",
    "그리고 그 뒤에 for문 + sum으로 해결하는방식이 있네\n",
    "'''"
   ]
  }
 ],
 "metadata": {
  "kernelspec": {
   "display_name": "Python 3",
   "language": "python",
   "name": "python3"
  },
  "language_info": {
   "codemirror_mode": {
    "name": "ipython",
    "version": 3
   },
   "file_extension": ".py",
   "mimetype": "text/x-python",
   "name": "python",
   "nbconvert_exporter": "python",
   "pygments_lexer": "ipython3",
   "version": "3.12.0"
  }
 },
 "nbformat": 4,
 "nbformat_minor": 2
}

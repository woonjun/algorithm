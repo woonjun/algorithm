{
 "cells": [
  {
   "cell_type": "code",
   "execution_count": 17,
   "metadata": {},
   "outputs": [
    {
     "name": "stdout",
     "output_type": "stream",
     "text": [
      "[1, 3, 0, 1]\n"
     ]
    }
   ],
   "source": [
    "#내 코드\n",
    "def solution(arr):\n",
    "    answer = []\n",
    "    for i in range(len(arr)-1):\n",
    "        if(arr[i] != arr[i+1]):\n",
    "            answer.append(arr[i])\n",
    "    answer.append(arr[i+1])\n",
    "    return answer\n",
    "\n",
    "print(solution([1,1,3,3,0,1,1]))"
   ]
  },
  {
   "cell_type": "code",
   "execution_count": 15,
   "metadata": {},
   "outputs": [
    {
     "name": "stdout",
     "output_type": "stream",
     "text": [
      "['1', '3', '0', '3']\n"
     ]
    }
   ],
   "source": [
    "#다른사람 코드\n",
    "def no_continuous(s):\n",
    "    # 함수를 완성하세요\n",
    "    a = []\n",
    "    for i in s:\n",
    "        if a[-1:] == [i]: continue\n",
    "        a.append(i)\n",
    "    return a"
   ]
  },
  {
   "cell_type": "code",
   "execution_count": 21,
   "metadata": {},
   "outputs": [
    {
     "data": {
      "text/plain": [
       "'\\n오답노트 \\nindex 번호로 하는 내 풀이보다 한번에 처리하는 인터넷 코드가 나은거 같다. 불필요한 함수들이 많은 것 같다.\\n앞으로 확인할때 저렇게 해야징\\n'"
      ]
     },
     "execution_count": 21,
     "metadata": {},
     "output_type": "execute_result"
    }
   ],
   "source": [
    "'''\n",
    "오답노트 \n",
    "index 번호로 하는 내 풀이보다 한번에 처리하는 인터넷 코드가 나은거 같다. 불필요한 함수들이 많은 것 같다.\n",
    "앞으로 확인할때 저렇게 해야징\n",
    "'''"
   ]
  }
 ],
 "metadata": {
  "kernelspec": {
   "display_name": "Python 3",
   "language": "python",
   "name": "python3"
  },
  "language_info": {
   "codemirror_mode": {
    "name": "ipython",
    "version": 3
   },
   "file_extension": ".py",
   "mimetype": "text/x-python",
   "name": "python",
   "nbconvert_exporter": "python",
   "pygments_lexer": "ipython3",
   "version": "3.12.0"
  }
 },
 "nbformat": 4,
 "nbformat_minor": 2
}

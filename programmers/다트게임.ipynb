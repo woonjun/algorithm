{
 "cells": [
  {
   "cell_type": "code",
   "execution_count": 11,
   "metadata": {},
   "outputs": [],
   "source": [
    "def solution(dartResult):\n",
    "    import re\n",
    "    tokens = re.findall('\\d+|[SDT#*]','1D2S#10S')\n",
    "    answer = 0; stack=[]\n",
    "    for i in range(len(dartResult)):\n",
    "        if(dartResult[i].isdigit()):\n",
    "            pass\n",
    "        elif(dartResult[i] == 'S'):\n",
    "            stack.append(int(dartResult[i-1]))\n",
    "        elif(dartResult[i] == 'D'):\n",
    "            stack.append(int(dartResult[i-1])**2)\n",
    "        elif(dartResult[i] == 'T'):\n",
    "            stack.append(int(dartResult[i-1])**3)\n",
    "        elif(dartResult[i] == '*'):\n",
    "            stack.append(stack[-1])\n",
    "            try:\n",
    "                stack.append(stack[-3])\n",
    "            except:\n",
    "                pass\n",
    "        elif(dartResult[i] == '#'):\n",
    "            stack.append(-2*stack[-1])\n",
    "        print(stack)\n",
    "    answer = sum(stack)\n",
    "    return answer"
   ]
  },
  {
   "cell_type": "code",
   "execution_count": 23,
   "metadata": {},
   "outputs": [
    {
     "name": "stderr",
     "output_type": "stream",
     "text": [
      "<>:2: SyntaxWarning: invalid escape sequence '\\d'\n",
      "<>:2: SyntaxWarning: invalid escape sequence '\\d'\n",
      "C:\\Users\\82107\\AppData\\Local\\Temp\\ipykernel_20060\\2682663747.py:2: SyntaxWarning: invalid escape sequence '\\d'\n",
      "  tokens = re.findall('\\d+|[SDT#*]','1D2S#10S')\n"
     ]
    },
    {
     "data": {
      "text/plain": [
       "['1', 'D', '2', 'S', '#', '10', 'S']"
      ]
     },
     "execution_count": 23,
     "metadata": {},
     "output_type": "execute_result"
    }
   ],
   "source": [
    "import re\n",
    "tokens = re.findall('\\d+|[SDT#*]','1D2S#10S')\n",
    "tokens"
   ]
  },
  {
   "cell_type": "code",
   "execution_count": 9,
   "metadata": {},
   "outputs": [
    {
     "name": "stdout",
     "output_type": "stream",
     "text": [
      "37 -1 3 22 4 -4 59\n"
     ]
    }
   ],
   "source": [
    "print(\n",
    "solution('1S2D*3T'),\n",
    "solution('1D2S#10S'),\n",
    "solution('1D2S0T'),\n",
    "solution('1S*2T*3S'),\n",
    "solution('1D#2S*3S'),\n",
    "solution('1T2D3D#'),\n",
    "solution('1D2S3T*'))"
   ]
  },
  {
   "cell_type": "code",
   "execution_count": 12,
   "metadata": {},
   "outputs": [
    {
     "name": "stdout",
     "output_type": "stream",
     "text": [
      "[]\n",
      "[1]\n",
      "[1]\n",
      "[1, 2]\n",
      "[1, 2, -4]\n",
      "[1, 2, -4]\n",
      "[1, 2, -4]\n",
      "[1, 2, -4, 0]\n"
     ]
    },
    {
     "data": {
      "text/plain": [
       "-1"
      ]
     },
     "execution_count": 12,
     "metadata": {},
     "output_type": "execute_result"
    }
   ],
   "source": [
    "solution('1D2S#10S')"
   ]
  }
 ],
 "metadata": {
  "kernelspec": {
   "display_name": "Python 3",
   "language": "python",
   "name": "python3"
  },
  "language_info": {
   "codemirror_mode": {
    "name": "ipython",
    "version": 3
   },
   "file_extension": ".py",
   "mimetype": "text/x-python",
   "name": "python",
   "nbconvert_exporter": "python",
   "pygments_lexer": "ipython3",
   "version": "3.12.0"
  }
 },
 "nbformat": 4,
 "nbformat_minor": 2
}
